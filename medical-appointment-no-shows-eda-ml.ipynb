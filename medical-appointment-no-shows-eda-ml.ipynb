{
 "cells": [
  {
   "cell_type": "markdown",
   "id": "97d5088e",
   "metadata": {
    "papermill": {
     "duration": 0.021257,
     "end_time": "2022-07-09T20:22:16.756970",
     "exception": false,
     "start_time": "2022-07-09T20:22:16.735713",
     "status": "completed"
    },
    "tags": []
   },
   "source": [
    "# Medical Appointment No Shows Project\n",
    "This analysis is part of the Udacity Data Analysis Nanodegree program and aims to explore a dataset containing aproximately 100k medical appointments from the Brazilian public health system. found insights about the problem are reviewed and communicated.focused on the question of whether or not patients show up for their appointment.\n",
    "\n",
    "## Table of Contents\n",
    "- problem:- What is the problem we are facing?\n",
    "- Problem solving (by asking questions)\n",
    "- Dataset & Required Libraries (numpy, pandas ...)\n",
    "- Data Wrangling\n",
    "- Exploratory Data Analysis\n",
    "- Conclusions\n",
    "## Problem\n",
    "- A person makes a doctor appointment, receives all the instructions and no-show. \n",
    "## Questions\n",
    "- The main question here, why the person no-show doctor appointment ?\n",
    "- What factors are important for us to know in order to predict if a patient will show up for their scheduled appointment?\n",
    "- What gender is the most No-Show?\n",
    "- Is there a specific schedule date that is not suitable for many?\n",
    "- What is the average age of those who No-Show?\n",
    "- What is the age of the most Show-Up and least?\n",
    "- What is the total number of people in each neighborhood?\n",
    "- How many people No-Show in each neighborhood?\n",
    "- Are these features(Handcap,Scholarship,Hipertension,Diabetes,Alcoholism,Handcap,SMS_received) correlation for no-show? Explain .\n"
   ]
  },
  {
   "cell_type": "markdown",
   "id": "0a6a70c2",
   "metadata": {
    "papermill": {
     "duration": 0.021563,
     "end_time": "2022-07-09T20:22:16.800073",
     "exception": false,
     "start_time": "2022-07-09T20:22:16.778510",
     "status": "completed"
    },
    "tags": []
   },
   "source": [
    "## Dataset & Required Librarie\n"
   ]
  },
  {
   "cell_type": "code",
   "execution_count": 1,
   "id": "ce145abc",
   "metadata": {
    "execution": {
     "iopub.execute_input": "2022-07-09T20:22:16.830904Z",
     "iopub.status.busy": "2022-07-09T20:22:16.830391Z",
     "iopub.status.idle": "2022-07-09T20:22:18.088775Z",
     "shell.execute_reply": "2022-07-09T20:22:18.087845Z"
    },
    "papermill": {
     "duration": 1.27687,
     "end_time": "2022-07-09T20:22:18.091152",
     "exception": false,
     "start_time": "2022-07-09T20:22:16.814282",
     "status": "completed"
    },
    "tags": []
   },
   "outputs": [
    {
     "name": "stdout",
     "output_type": "stream",
     "text": [
      "/kaggle/input/medical-appointment-no-shows-dataset/noshowappointments.csv\n"
     ]
    }
   ],
   "source": [
    "# import the necessary packages. (pandas,numpy,matplotlib,seaborn)\n",
    "import numpy as np\n",
    "import pandas as pd\n",
    "import matplotlib.pyplot as plt\n",
    "import seaborn as sns\n",
    "%matplotlib inline\n",
    "\n",
    "from sklearn.linear_model import LinearRegression\n",
    "from sklearn.model_selection import train_test_split\n",
    "from sklearn.preprocessing import MinMaxScaler\n",
    "from sklearn.tree import DecisionTreeRegressor\n",
    "from sklearn.ensemble import RandomForestRegressor\n",
    "from sklearn.model_selection import train_test_split, GridSearchCV\n",
    "from sklearn.metrics import mean_squared_error, r2_score, make_scorer\n",
    "from sklearn import preprocessing \n",
    "\n",
    "%matplotlib inline\n",
    "import os\n",
    "for dirname, _, filenames in os.walk('/kaggle/input'):\n",
    "    for filename in filenames:\n",
    "        print(os.path.join(dirname, filename))\n",
    "\n",
    "# You can write up to 20GB to the current directory (/kaggle/working/) that gets preserved as output when you create a version using \"Save & Run All\" \n",
    "# You can also write temporary files to /kaggle/temp/, but they won't be saved outside of the current session"
   ]
  },
  {
   "cell_type": "code",
   "execution_count": 2,
   "id": "c48da469",
   "metadata": {
    "execution": {
     "iopub.execute_input": "2022-07-09T20:22:18.120062Z",
     "iopub.status.busy": "2022-07-09T20:22:18.119391Z",
     "iopub.status.idle": "2022-07-09T20:22:18.425797Z",
     "shell.execute_reply": "2022-07-09T20:22:18.424854Z"
    },
    "papermill": {
     "duration": 0.323239,
     "end_time": "2022-07-09T20:22:18.428057",
     "exception": false,
     "start_time": "2022-07-09T20:22:18.104818",
     "status": "completed"
    },
    "tags": []
   },
   "outputs": [
    {
     "data": {
      "text/html": [
       "<div>\n",
       "<style scoped>\n",
       "    .dataframe tbody tr th:only-of-type {\n",
       "        vertical-align: middle;\n",
       "    }\n",
       "\n",
       "    .dataframe tbody tr th {\n",
       "        vertical-align: top;\n",
       "    }\n",
       "\n",
       "    .dataframe thead th {\n",
       "        text-align: right;\n",
       "    }\n",
       "</style>\n",
       "<table border=\"1\" class=\"dataframe\">\n",
       "  <thead>\n",
       "    <tr style=\"text-align: right;\">\n",
       "      <th></th>\n",
       "      <th>PatientId</th>\n",
       "      <th>AppointmentID</th>\n",
       "      <th>Gender</th>\n",
       "      <th>ScheduledDay</th>\n",
       "      <th>AppointmentDay</th>\n",
       "      <th>Age</th>\n",
       "      <th>Neighbourhood</th>\n",
       "      <th>Scholarship</th>\n",
       "      <th>Hipertension</th>\n",
       "      <th>Diabetes</th>\n",
       "      <th>Alcoholism</th>\n",
       "      <th>Handcap</th>\n",
       "      <th>SMS_received</th>\n",
       "      <th>No-show</th>\n",
       "    </tr>\n",
       "  </thead>\n",
       "  <tbody>\n",
       "    <tr>\n",
       "      <th>0</th>\n",
       "      <td>2.987250e+13</td>\n",
       "      <td>5642903</td>\n",
       "      <td>F</td>\n",
       "      <td>2016-04-29T18:38:08Z</td>\n",
       "      <td>2016-04-29T00:00:00Z</td>\n",
       "      <td>62</td>\n",
       "      <td>JARDIM DA PENHA</td>\n",
       "      <td>0</td>\n",
       "      <td>1</td>\n",
       "      <td>0</td>\n",
       "      <td>0</td>\n",
       "      <td>0</td>\n",
       "      <td>0</td>\n",
       "      <td>No</td>\n",
       "    </tr>\n",
       "    <tr>\n",
       "      <th>1</th>\n",
       "      <td>5.589978e+14</td>\n",
       "      <td>5642503</td>\n",
       "      <td>M</td>\n",
       "      <td>2016-04-29T16:08:27Z</td>\n",
       "      <td>2016-04-29T00:00:00Z</td>\n",
       "      <td>56</td>\n",
       "      <td>JARDIM DA PENHA</td>\n",
       "      <td>0</td>\n",
       "      <td>0</td>\n",
       "      <td>0</td>\n",
       "      <td>0</td>\n",
       "      <td>0</td>\n",
       "      <td>0</td>\n",
       "      <td>No</td>\n",
       "    </tr>\n",
       "    <tr>\n",
       "      <th>2</th>\n",
       "      <td>4.262962e+12</td>\n",
       "      <td>5642549</td>\n",
       "      <td>F</td>\n",
       "      <td>2016-04-29T16:19:04Z</td>\n",
       "      <td>2016-04-29T00:00:00Z</td>\n",
       "      <td>62</td>\n",
       "      <td>MATA DA PRAIA</td>\n",
       "      <td>0</td>\n",
       "      <td>0</td>\n",
       "      <td>0</td>\n",
       "      <td>0</td>\n",
       "      <td>0</td>\n",
       "      <td>0</td>\n",
       "      <td>No</td>\n",
       "    </tr>\n",
       "    <tr>\n",
       "      <th>3</th>\n",
       "      <td>8.679512e+11</td>\n",
       "      <td>5642828</td>\n",
       "      <td>F</td>\n",
       "      <td>2016-04-29T17:29:31Z</td>\n",
       "      <td>2016-04-29T00:00:00Z</td>\n",
       "      <td>8</td>\n",
       "      <td>PONTAL DE CAMBURI</td>\n",
       "      <td>0</td>\n",
       "      <td>0</td>\n",
       "      <td>0</td>\n",
       "      <td>0</td>\n",
       "      <td>0</td>\n",
       "      <td>0</td>\n",
       "      <td>No</td>\n",
       "    </tr>\n",
       "    <tr>\n",
       "      <th>4</th>\n",
       "      <td>8.841186e+12</td>\n",
       "      <td>5642494</td>\n",
       "      <td>F</td>\n",
       "      <td>2016-04-29T16:07:23Z</td>\n",
       "      <td>2016-04-29T00:00:00Z</td>\n",
       "      <td>56</td>\n",
       "      <td>JARDIM DA PENHA</td>\n",
       "      <td>0</td>\n",
       "      <td>1</td>\n",
       "      <td>1</td>\n",
       "      <td>0</td>\n",
       "      <td>0</td>\n",
       "      <td>0</td>\n",
       "      <td>No</td>\n",
       "    </tr>\n",
       "  </tbody>\n",
       "</table>\n",
       "</div>"
      ],
      "text/plain": [
       "      PatientId  AppointmentID Gender          ScheduledDay  \\\n",
       "0  2.987250e+13        5642903      F  2016-04-29T18:38:08Z   \n",
       "1  5.589978e+14        5642503      M  2016-04-29T16:08:27Z   \n",
       "2  4.262962e+12        5642549      F  2016-04-29T16:19:04Z   \n",
       "3  8.679512e+11        5642828      F  2016-04-29T17:29:31Z   \n",
       "4  8.841186e+12        5642494      F  2016-04-29T16:07:23Z   \n",
       "\n",
       "         AppointmentDay  Age      Neighbourhood  Scholarship  Hipertension  \\\n",
       "0  2016-04-29T00:00:00Z   62    JARDIM DA PENHA            0             1   \n",
       "1  2016-04-29T00:00:00Z   56    JARDIM DA PENHA            0             0   \n",
       "2  2016-04-29T00:00:00Z   62      MATA DA PRAIA            0             0   \n",
       "3  2016-04-29T00:00:00Z    8  PONTAL DE CAMBURI            0             0   \n",
       "4  2016-04-29T00:00:00Z   56    JARDIM DA PENHA            0             1   \n",
       "\n",
       "   Diabetes  Alcoholism  Handcap  SMS_received No-show  \n",
       "0         0           0        0             0      No  \n",
       "1         0           0        0             0      No  \n",
       "2         0           0        0             0      No  \n",
       "3         0           0        0             0      No  \n",
       "4         1           0        0             0      No  "
      ]
     },
     "execution_count": 2,
     "metadata": {},
     "output_type": "execute_result"
    }
   ],
   "source": [
    "# Loding the dataset with pandas (noshowappointments.csv) :\n",
    "df=pd.read_csv('/kaggle/input/medical-appointment-no-shows-dataset/noshowappointments.csv')\n",
    "df.head()"
   ]
  },
  {
   "cell_type": "markdown",
   "id": "c8147f1c",
   "metadata": {
    "papermill": {
     "duration": 0.01315,
     "end_time": "2022-07-09T20:22:18.455308",
     "exception": false,
     "start_time": "2022-07-09T20:22:18.442158",
     "status": "completed"
    },
    "tags": []
   },
   "source": [
    "## Data Wrangling\n",
    "### General Properties\n",
    "##### Load data and print a few lines. Perform operations to inspect data"
   ]
  },
  {
   "cell_type": "code",
   "execution_count": 3,
   "id": "c302ccee",
   "metadata": {
    "execution": {
     "iopub.execute_input": "2022-07-09T20:22:18.484013Z",
     "iopub.status.busy": "2022-07-09T20:22:18.483707Z",
     "iopub.status.idle": "2022-07-09T20:22:18.516555Z",
     "shell.execute_reply": "2022-07-09T20:22:18.513016Z"
    },
    "papermill": {
     "duration": 0.051028,
     "end_time": "2022-07-09T20:22:18.520116",
     "exception": false,
     "start_time": "2022-07-09T20:22:18.469088",
     "status": "completed"
    },
    "tags": []
   },
   "outputs": [
    {
     "data": {
      "text/html": [
       "<div>\n",
       "<style scoped>\n",
       "    .dataframe tbody tr th:only-of-type {\n",
       "        vertical-align: middle;\n",
       "    }\n",
       "\n",
       "    .dataframe tbody tr th {\n",
       "        vertical-align: top;\n",
       "    }\n",
       "\n",
       "    .dataframe thead th {\n",
       "        text-align: right;\n",
       "    }\n",
       "</style>\n",
       "<table border=\"1\" class=\"dataframe\">\n",
       "  <thead>\n",
       "    <tr style=\"text-align: right;\">\n",
       "      <th></th>\n",
       "      <th>PatientId</th>\n",
       "      <th>AppointmentID</th>\n",
       "      <th>Gender</th>\n",
       "      <th>ScheduledDay</th>\n",
       "      <th>AppointmentDay</th>\n",
       "      <th>Age</th>\n",
       "      <th>Neighbourhood</th>\n",
       "      <th>Scholarship</th>\n",
       "      <th>Hipertension</th>\n",
       "      <th>Diabetes</th>\n",
       "      <th>Alcoholism</th>\n",
       "      <th>Handcap</th>\n",
       "      <th>SMS_received</th>\n",
       "      <th>No-show</th>\n",
       "    </tr>\n",
       "  </thead>\n",
       "  <tbody>\n",
       "    <tr>\n",
       "      <th>51382</th>\n",
       "      <td>3.356719e+12</td>\n",
       "      <td>5691333</td>\n",
       "      <td>F</td>\n",
       "      <td>2016-05-12T12:12:35Z</td>\n",
       "      <td>2016-05-24T00:00:00Z</td>\n",
       "      <td>14</td>\n",
       "      <td>MARIA ORTIZ</td>\n",
       "      <td>0</td>\n",
       "      <td>0</td>\n",
       "      <td>0</td>\n",
       "      <td>0</td>\n",
       "      <td>0</td>\n",
       "      <td>1</td>\n",
       "      <td>No</td>\n",
       "    </tr>\n",
       "    <tr>\n",
       "      <th>105981</th>\n",
       "      <td>3.514554e+11</td>\n",
       "      <td>5763986</td>\n",
       "      <td>F</td>\n",
       "      <td>2016-06-02T09:40:34Z</td>\n",
       "      <td>2016-06-02T00:00:00Z</td>\n",
       "      <td>52</td>\n",
       "      <td>SANTA MARTHA</td>\n",
       "      <td>0</td>\n",
       "      <td>0</td>\n",
       "      <td>0</td>\n",
       "      <td>0</td>\n",
       "      <td>0</td>\n",
       "      <td>0</td>\n",
       "      <td>No</td>\n",
       "    </tr>\n",
       "    <tr>\n",
       "      <th>13574</th>\n",
       "      <td>6.322419e+11</td>\n",
       "      <td>5698092</td>\n",
       "      <td>M</td>\n",
       "      <td>2016-05-16T07:15:13Z</td>\n",
       "      <td>2016-05-18T00:00:00Z</td>\n",
       "      <td>54</td>\n",
       "      <td>CRUZAMENTO</td>\n",
       "      <td>0</td>\n",
       "      <td>1</td>\n",
       "      <td>0</td>\n",
       "      <td>0</td>\n",
       "      <td>0</td>\n",
       "      <td>0</td>\n",
       "      <td>Yes</td>\n",
       "    </tr>\n",
       "    <tr>\n",
       "      <th>94432</th>\n",
       "      <td>7.749372e+11</td>\n",
       "      <td>5703899</td>\n",
       "      <td>M</td>\n",
       "      <td>2016-05-16T14:41:40Z</td>\n",
       "      <td>2016-06-07T00:00:00Z</td>\n",
       "      <td>6</td>\n",
       "      <td>SÃO BENEDITO</td>\n",
       "      <td>0</td>\n",
       "      <td>0</td>\n",
       "      <td>0</td>\n",
       "      <td>0</td>\n",
       "      <td>0</td>\n",
       "      <td>1</td>\n",
       "      <td>No</td>\n",
       "    </tr>\n",
       "    <tr>\n",
       "      <th>80639</th>\n",
       "      <td>8.889280e+10</td>\n",
       "      <td>5707907</td>\n",
       "      <td>F</td>\n",
       "      <td>2016-05-17T10:17:54Z</td>\n",
       "      <td>2016-05-19T00:00:00Z</td>\n",
       "      <td>19</td>\n",
       "      <td>ITARARÉ</td>\n",
       "      <td>0</td>\n",
       "      <td>0</td>\n",
       "      <td>0</td>\n",
       "      <td>0</td>\n",
       "      <td>0</td>\n",
       "      <td>0</td>\n",
       "      <td>No</td>\n",
       "    </tr>\n",
       "  </tbody>\n",
       "</table>\n",
       "</div>"
      ],
      "text/plain": [
       "           PatientId  AppointmentID Gender          ScheduledDay  \\\n",
       "51382   3.356719e+12        5691333      F  2016-05-12T12:12:35Z   \n",
       "105981  3.514554e+11        5763986      F  2016-06-02T09:40:34Z   \n",
       "13574   6.322419e+11        5698092      M  2016-05-16T07:15:13Z   \n",
       "94432   7.749372e+11        5703899      M  2016-05-16T14:41:40Z   \n",
       "80639   8.889280e+10        5707907      F  2016-05-17T10:17:54Z   \n",
       "\n",
       "              AppointmentDay  Age Neighbourhood  Scholarship  Hipertension  \\\n",
       "51382   2016-05-24T00:00:00Z   14   MARIA ORTIZ            0             0   \n",
       "105981  2016-06-02T00:00:00Z   52  SANTA MARTHA            0             0   \n",
       "13574   2016-05-18T00:00:00Z   54    CRUZAMENTO            0             1   \n",
       "94432   2016-06-07T00:00:00Z    6  SÃO BENEDITO            0             0   \n",
       "80639   2016-05-19T00:00:00Z   19       ITARARÉ            0             0   \n",
       "\n",
       "        Diabetes  Alcoholism  Handcap  SMS_received No-show  \n",
       "51382          0           0        0             1      No  \n",
       "105981         0           0        0             0      No  \n",
       "13574          0           0        0             0     Yes  \n",
       "94432          0           0        0             1      No  \n",
       "80639          0           0        0             0      No  "
      ]
     },
     "execution_count": 3,
     "metadata": {},
     "output_type": "execute_result"
    }
   ],
   "source": [
    "# Show 5 rows at random:\n",
    "df.sample(5)"
   ]
  },
  {
   "cell_type": "markdown",
   "id": "36b048b2",
   "metadata": {
    "papermill": {
     "duration": 0.026184,
     "end_time": "2022-07-09T20:22:18.572010",
     "exception": false,
     "start_time": "2022-07-09T20:22:18.545826",
     "status": "completed"
    },
    "tags": []
   },
   "source": [
    "There are some columns with misspellings that we need to fix (Handicap,Hipertension)"
   ]
  },
  {
   "cell_type": "code",
   "execution_count": 4,
   "id": "691d05a3",
   "metadata": {
    "execution": {
     "iopub.execute_input": "2022-07-09T20:22:18.626343Z",
     "iopub.status.busy": "2022-07-09T20:22:18.625888Z",
     "iopub.status.idle": "2022-07-09T20:22:18.637572Z",
     "shell.execute_reply": "2022-07-09T20:22:18.636582Z"
    },
    "papermill": {
     "duration": 0.038071,
     "end_time": "2022-07-09T20:22:18.640522",
     "exception": false,
     "start_time": "2022-07-09T20:22:18.602451",
     "status": "completed"
    },
    "tags": []
   },
   "outputs": [],
   "source": [
    "#rename the coulmns from Hipertension to Hypertension and from Handcap to Handicap and save changes in df \n",
    "df.rename(columns={'Hipertension':'Hypertension','Handcap':'Handicap'},inplace=True)"
   ]
  },
  {
   "cell_type": "markdown",
   "id": "f0aa4108",
   "metadata": {
    "papermill": {
     "duration": 0.020514,
     "end_time": "2022-07-09T20:22:18.683209",
     "exception": false,
     "start_time": "2022-07-09T20:22:18.662695",
     "status": "completed"
    },
    "tags": []
   },
   "source": [
    "look for instances of missing"
   ]
  },
  {
   "cell_type": "code",
   "execution_count": 5,
   "id": "13448438",
   "metadata": {
    "execution": {
     "iopub.execute_input": "2022-07-09T20:22:18.730878Z",
     "iopub.status.busy": "2022-07-09T20:22:18.730449Z",
     "iopub.status.idle": "2022-07-09T20:22:18.854526Z",
     "shell.execute_reply": "2022-07-09T20:22:18.853569Z"
    },
    "papermill": {
     "duration": 0.151984,
     "end_time": "2022-07-09T20:22:18.857575",
     "exception": false,
     "start_time": "2022-07-09T20:22:18.705591",
     "status": "completed"
    },
    "tags": []
   },
   "outputs": [
    {
     "data": {
      "text/plain": [
       "PatientId         0\n",
       "AppointmentID     0\n",
       "Gender            0\n",
       "ScheduledDay      0\n",
       "AppointmentDay    0\n",
       "Age               0\n",
       "Neighbourhood     0\n",
       "Scholarship       0\n",
       "Hypertension      0\n",
       "Diabetes          0\n",
       "Alcoholism        0\n",
       "Handicap          0\n",
       "SMS_received      0\n",
       "No-show           0\n",
       "dtype: int64"
      ]
     },
     "execution_count": 5,
     "metadata": {},
     "output_type": "execute_result"
    }
   ],
   "source": [
    "df.isnull().sum()\n"
   ]
  },
  {
   "cell_type": "markdown",
   "id": "85924cb9",
   "metadata": {
    "papermill": {
     "duration": 0.029771,
     "end_time": "2022-07-09T20:22:18.920983",
     "exception": false,
     "start_time": "2022-07-09T20:22:18.891212",
     "status": "completed"
    },
    "tags": []
   },
   "source": [
    "#### No data is missing\n",
    " ##### look for instances possibly errant data."
   ]
  },
  {
   "cell_type": "code",
   "execution_count": 6,
   "id": "6802872d",
   "metadata": {
    "execution": {
     "iopub.execute_input": "2022-07-09T20:22:18.986684Z",
     "iopub.status.busy": "2022-07-09T20:22:18.985977Z",
     "iopub.status.idle": "2022-07-09T20:22:19.149610Z",
     "shell.execute_reply": "2022-07-09T20:22:19.140248Z"
    },
    "papermill": {
     "duration": 0.194552,
     "end_time": "2022-07-09T20:22:19.154669",
     "exception": false,
     "start_time": "2022-07-09T20:22:18.960117",
     "status": "completed"
    },
    "tags": []
   },
   "outputs": [
    {
     "name": "stdout",
     "output_type": "stream",
     "text": [
      "<class 'pandas.core.frame.DataFrame'>\n",
      "RangeIndex: 110527 entries, 0 to 110526\n",
      "Data columns (total 14 columns):\n",
      " #   Column          Non-Null Count   Dtype  \n",
      "---  ------          --------------   -----  \n",
      " 0   PatientId       110527 non-null  float64\n",
      " 1   AppointmentID   110527 non-null  int64  \n",
      " 2   Gender          110527 non-null  object \n",
      " 3   ScheduledDay    110527 non-null  object \n",
      " 4   AppointmentDay  110527 non-null  object \n",
      " 5   Age             110527 non-null  int64  \n",
      " 6   Neighbourhood   110527 non-null  object \n",
      " 7   Scholarship     110527 non-null  int64  \n",
      " 8   Hypertension    110527 non-null  int64  \n",
      " 9   Diabetes        110527 non-null  int64  \n",
      " 10  Alcoholism      110527 non-null  int64  \n",
      " 11  Handicap        110527 non-null  int64  \n",
      " 12  SMS_received    110527 non-null  int64  \n",
      " 13  No-show         110527 non-null  object \n",
      "dtypes: float64(1), int64(8), object(5)\n",
      "memory usage: 11.8+ MB\n"
     ]
    }
   ],
   "source": [
    "# get an overview of what we are dealing with\n",
    "df.info()"
   ]
  },
  {
   "cell_type": "markdown",
   "id": "01667c96",
   "metadata": {
    "papermill": {
     "duration": 0.050489,
     "end_time": "2022-07-09T20:22:19.258157",
     "exception": false,
     "start_time": "2022-07-09T20:22:19.207668",
     "status": "completed"
    },
    "tags": []
   },
   "source": [
    "### (ScheduledDay & AppointmentDay) must converted to datetime , Dropping irrelevant columns: PatientId\n"
   ]
  },
  {
   "cell_type": "code",
   "execution_count": 7,
   "id": "e40f4b75",
   "metadata": {
    "execution": {
     "iopub.execute_input": "2022-07-09T20:22:19.352863Z",
     "iopub.status.busy": "2022-07-09T20:22:19.352464Z",
     "iopub.status.idle": "2022-07-09T20:22:19.664946Z",
     "shell.execute_reply": "2022-07-09T20:22:19.664038Z"
    },
    "papermill": {
     "duration": 0.361749,
     "end_time": "2022-07-09T20:22:19.667853",
     "exception": false,
     "start_time": "2022-07-09T20:22:19.306104",
     "status": "completed"
    },
    "tags": []
   },
   "outputs": [
    {
     "data": {
      "text/plain": [
       "0"
      ]
     },
     "execution_count": 7,
     "metadata": {},
     "output_type": "execute_result"
    }
   ],
   "source": [
    "#Ensure that there is no duplicated\n",
    "sum(df.duplicated())"
   ]
  },
  {
   "cell_type": "markdown",
   "id": "a5598e43",
   "metadata": {
    "papermill": {
     "duration": 0.047163,
     "end_time": "2022-07-09T20:22:19.764181",
     "exception": false,
     "start_time": "2022-07-09T20:22:19.717018",
     "status": "completed"
    },
    "tags": []
   },
   "source": [
    "### There is no duplicate data\n"
   ]
  },
  {
   "cell_type": "code",
   "execution_count": 8,
   "id": "c37e1b1c",
   "metadata": {
    "execution": {
     "iopub.execute_input": "2022-07-09T20:22:19.828271Z",
     "iopub.status.busy": "2022-07-09T20:22:19.827839Z",
     "iopub.status.idle": "2022-07-09T20:22:19.949257Z",
     "shell.execute_reply": "2022-07-09T20:22:19.948348Z"
    },
    "papermill": {
     "duration": 0.149536,
     "end_time": "2022-07-09T20:22:19.951946",
     "exception": false,
     "start_time": "2022-07-09T20:22:19.802410",
     "status": "completed"
    },
    "tags": []
   },
   "outputs": [
    {
     "data": {
      "text/html": [
       "<div>\n",
       "<style scoped>\n",
       "    .dataframe tbody tr th:only-of-type {\n",
       "        vertical-align: middle;\n",
       "    }\n",
       "\n",
       "    .dataframe tbody tr th {\n",
       "        vertical-align: top;\n",
       "    }\n",
       "\n",
       "    .dataframe thead th {\n",
       "        text-align: right;\n",
       "    }\n",
       "</style>\n",
       "<table border=\"1\" class=\"dataframe\">\n",
       "  <thead>\n",
       "    <tr style=\"text-align: right;\">\n",
       "      <th></th>\n",
       "      <th>PatientId</th>\n",
       "      <th>AppointmentID</th>\n",
       "      <th>Age</th>\n",
       "      <th>Scholarship</th>\n",
       "      <th>Hypertension</th>\n",
       "      <th>Diabetes</th>\n",
       "      <th>Alcoholism</th>\n",
       "      <th>Handicap</th>\n",
       "      <th>SMS_received</th>\n",
       "    </tr>\n",
       "  </thead>\n",
       "  <tbody>\n",
       "    <tr>\n",
       "      <th>count</th>\n",
       "      <td>1.105270e+05</td>\n",
       "      <td>1.105270e+05</td>\n",
       "      <td>110527.000000</td>\n",
       "      <td>110527.000000</td>\n",
       "      <td>110527.000000</td>\n",
       "      <td>110527.000000</td>\n",
       "      <td>110527.000000</td>\n",
       "      <td>110527.000000</td>\n",
       "      <td>110527.000000</td>\n",
       "    </tr>\n",
       "    <tr>\n",
       "      <th>mean</th>\n",
       "      <td>1.474963e+14</td>\n",
       "      <td>5.675305e+06</td>\n",
       "      <td>37.088874</td>\n",
       "      <td>0.098266</td>\n",
       "      <td>0.197246</td>\n",
       "      <td>0.071865</td>\n",
       "      <td>0.030400</td>\n",
       "      <td>0.022248</td>\n",
       "      <td>0.321026</td>\n",
       "    </tr>\n",
       "    <tr>\n",
       "      <th>std</th>\n",
       "      <td>2.560949e+14</td>\n",
       "      <td>7.129575e+04</td>\n",
       "      <td>23.110205</td>\n",
       "      <td>0.297675</td>\n",
       "      <td>0.397921</td>\n",
       "      <td>0.258265</td>\n",
       "      <td>0.171686</td>\n",
       "      <td>0.161543</td>\n",
       "      <td>0.466873</td>\n",
       "    </tr>\n",
       "    <tr>\n",
       "      <th>min</th>\n",
       "      <td>3.921784e+04</td>\n",
       "      <td>5.030230e+06</td>\n",
       "      <td>-1.000000</td>\n",
       "      <td>0.000000</td>\n",
       "      <td>0.000000</td>\n",
       "      <td>0.000000</td>\n",
       "      <td>0.000000</td>\n",
       "      <td>0.000000</td>\n",
       "      <td>0.000000</td>\n",
       "    </tr>\n",
       "    <tr>\n",
       "      <th>25%</th>\n",
       "      <td>4.172614e+12</td>\n",
       "      <td>5.640286e+06</td>\n",
       "      <td>18.000000</td>\n",
       "      <td>0.000000</td>\n",
       "      <td>0.000000</td>\n",
       "      <td>0.000000</td>\n",
       "      <td>0.000000</td>\n",
       "      <td>0.000000</td>\n",
       "      <td>0.000000</td>\n",
       "    </tr>\n",
       "    <tr>\n",
       "      <th>50%</th>\n",
       "      <td>3.173184e+13</td>\n",
       "      <td>5.680573e+06</td>\n",
       "      <td>37.000000</td>\n",
       "      <td>0.000000</td>\n",
       "      <td>0.000000</td>\n",
       "      <td>0.000000</td>\n",
       "      <td>0.000000</td>\n",
       "      <td>0.000000</td>\n",
       "      <td>0.000000</td>\n",
       "    </tr>\n",
       "    <tr>\n",
       "      <th>75%</th>\n",
       "      <td>9.439172e+13</td>\n",
       "      <td>5.725524e+06</td>\n",
       "      <td>55.000000</td>\n",
       "      <td>0.000000</td>\n",
       "      <td>0.000000</td>\n",
       "      <td>0.000000</td>\n",
       "      <td>0.000000</td>\n",
       "      <td>0.000000</td>\n",
       "      <td>1.000000</td>\n",
       "    </tr>\n",
       "    <tr>\n",
       "      <th>max</th>\n",
       "      <td>9.999816e+14</td>\n",
       "      <td>5.790484e+06</td>\n",
       "      <td>115.000000</td>\n",
       "      <td>1.000000</td>\n",
       "      <td>1.000000</td>\n",
       "      <td>1.000000</td>\n",
       "      <td>1.000000</td>\n",
       "      <td>4.000000</td>\n",
       "      <td>1.000000</td>\n",
       "    </tr>\n",
       "  </tbody>\n",
       "</table>\n",
       "</div>"
      ],
      "text/plain": [
       "          PatientId  AppointmentID            Age    Scholarship  \\\n",
       "count  1.105270e+05   1.105270e+05  110527.000000  110527.000000   \n",
       "mean   1.474963e+14   5.675305e+06      37.088874       0.098266   \n",
       "std    2.560949e+14   7.129575e+04      23.110205       0.297675   \n",
       "min    3.921784e+04   5.030230e+06      -1.000000       0.000000   \n",
       "25%    4.172614e+12   5.640286e+06      18.000000       0.000000   \n",
       "50%    3.173184e+13   5.680573e+06      37.000000       0.000000   \n",
       "75%    9.439172e+13   5.725524e+06      55.000000       0.000000   \n",
       "max    9.999816e+14   5.790484e+06     115.000000       1.000000   \n",
       "\n",
       "        Hypertension       Diabetes     Alcoholism       Handicap  \\\n",
       "count  110527.000000  110527.000000  110527.000000  110527.000000   \n",
       "mean        0.197246       0.071865       0.030400       0.022248   \n",
       "std         0.397921       0.258265       0.171686       0.161543   \n",
       "min         0.000000       0.000000       0.000000       0.000000   \n",
       "25%         0.000000       0.000000       0.000000       0.000000   \n",
       "50%         0.000000       0.000000       0.000000       0.000000   \n",
       "75%         0.000000       0.000000       0.000000       0.000000   \n",
       "max         1.000000       1.000000       1.000000       4.000000   \n",
       "\n",
       "        SMS_received  \n",
       "count  110527.000000  \n",
       "mean        0.321026  \n",
       "std         0.466873  \n",
       "min         0.000000  \n",
       "25%         0.000000  \n",
       "50%         0.000000  \n",
       "75%         1.000000  \n",
       "max         1.000000  "
      ]
     },
     "execution_count": 8,
     "metadata": {},
     "output_type": "execute_result"
    }
   ],
   "source": [
    "df.describe()"
   ]
  },
  {
   "cell_type": "markdown",
   "id": "709a2c00",
   "metadata": {
    "papermill": {
     "duration": 0.014875,
     "end_time": "2022-07-09T20:22:19.987057",
     "exception": false,
     "start_time": "2022-07-09T20:22:19.972182",
     "status": "completed"
    },
    "tags": []
   },
   "source": [
    "### In the age field, there are people whose age is less than 0, which is also wrong. There are people who are over 100 years old and also something wrong.\n",
    "\n"
   ]
  },
  {
   "cell_type": "markdown",
   "id": "837867ec",
   "metadata": {
    "papermill": {
     "duration": 0.014293,
     "end_time": "2022-07-09T20:22:20.016525",
     "exception": false,
     "start_time": "2022-07-09T20:22:20.002232",
     "status": "completed"
    },
    "tags": []
   },
   "source": [
    "## Data Cleaning"
   ]
  },
  {
   "cell_type": "code",
   "execution_count": 9,
   "id": "60f162e0",
   "metadata": {
    "execution": {
     "iopub.execute_input": "2022-07-09T20:22:20.046868Z",
     "iopub.status.busy": "2022-07-09T20:22:20.046534Z",
     "iopub.status.idle": "2022-07-09T20:22:20.120765Z",
     "shell.execute_reply": "2022-07-09T20:22:20.119733Z"
    },
    "papermill": {
     "duration": 0.091855,
     "end_time": "2022-07-09T20:22:20.123041",
     "exception": false,
     "start_time": "2022-07-09T20:22:20.031186",
     "status": "completed"
    },
    "tags": []
   },
   "outputs": [
    {
     "data": {
      "text/plain": [
       "PatientId          62299\n",
       "AppointmentID     110527\n",
       "Gender                 2\n",
       "ScheduledDay      103549\n",
       "AppointmentDay        27\n",
       "Age                  104\n",
       "Neighbourhood         81\n",
       "Scholarship            2\n",
       "Hypertension           2\n",
       "Diabetes               2\n",
       "Alcoholism             2\n",
       "Handicap               5\n",
       "SMS_received           2\n",
       "No-show                2\n",
       "dtype: int64"
      ]
     },
     "execution_count": 9,
     "metadata": {},
     "output_type": "execute_result"
    }
   ],
   "source": [
    "df.nunique()"
   ]
  },
  {
   "cell_type": "code",
   "execution_count": 10,
   "id": "1c8d561e",
   "metadata": {
    "execution": {
     "iopub.execute_input": "2022-07-09T20:22:20.153579Z",
     "iopub.status.busy": "2022-07-09T20:22:20.153293Z",
     "iopub.status.idle": "2022-07-09T20:22:20.160784Z",
     "shell.execute_reply": "2022-07-09T20:22:20.159946Z"
    },
    "papermill": {
     "duration": 0.024829,
     "end_time": "2022-07-09T20:22:20.162828",
     "exception": false,
     "start_time": "2022-07-09T20:22:20.137999",
     "status": "completed"
    },
    "tags": []
   },
   "outputs": [
    {
     "data": {
      "text/plain": [
       "array([0, 1, 2, 3, 4])"
      ]
     },
     "execution_count": 10,
     "metadata": {},
     "output_type": "execute_result"
    }
   ],
   "source": [
    "df.Handicap.unique()\n"
   ]
  },
  {
   "cell_type": "markdown",
   "id": "1fe622b0",
   "metadata": {
    "papermill": {
     "duration": 0.014526,
     "end_time": "2022-07-09T20:22:20.192137",
     "exception": false,
     "start_time": "2022-07-09T20:22:20.177611",
     "status": "completed"
    },
    "tags": []
   },
   "source": [
    "##### Handicap should have only values 0 or 1\n",
    "#### we will replace [2,3,4] by 1"
   ]
  },
  {
   "cell_type": "code",
   "execution_count": 11,
   "id": "282d6384",
   "metadata": {
    "execution": {
     "iopub.execute_input": "2022-07-09T20:22:20.222520Z",
     "iopub.status.busy": "2022-07-09T20:22:20.222250Z",
     "iopub.status.idle": "2022-07-09T20:22:20.231205Z",
     "shell.execute_reply": "2022-07-09T20:22:20.230213Z"
    },
    "papermill": {
     "duration": 0.026472,
     "end_time": "2022-07-09T20:22:20.233140",
     "exception": false,
     "start_time": "2022-07-09T20:22:20.206668",
     "status": "completed"
    },
    "tags": []
   },
   "outputs": [
    {
     "data": {
      "text/plain": [
       "array([0, 1])"
      ]
     },
     "execution_count": 11,
     "metadata": {},
     "output_type": "execute_result"
    }
   ],
   "source": [
    "df['Handicap'].replace(to_replace =[2, 3,4], value =1,inplace=True)\n",
    "df.Handicap.unique()"
   ]
  },
  {
   "cell_type": "code",
   "execution_count": 12,
   "id": "44fb8c95",
   "metadata": {
    "execution": {
     "iopub.execute_input": "2022-07-09T20:22:20.264241Z",
     "iopub.status.busy": "2022-07-09T20:22:20.263990Z",
     "iopub.status.idle": "2022-07-09T20:22:20.401538Z",
     "shell.execute_reply": "2022-07-09T20:22:20.399939Z"
    },
    "papermill": {
     "duration": 0.15627,
     "end_time": "2022-07-09T20:22:20.404217",
     "exception": false,
     "start_time": "2022-07-09T20:22:20.247947",
     "status": "completed"
    },
    "tags": []
   },
   "outputs": [
    {
     "name": "stdout",
     "output_type": "stream",
     "text": [
      "<class 'pandas.core.frame.DataFrame'>\n",
      "RangeIndex: 110527 entries, 0 to 110526\n",
      "Data columns (total 12 columns):\n",
      " #   Column          Non-Null Count   Dtype              \n",
      "---  ------          --------------   -----              \n",
      " 0   Gender          110527 non-null  object             \n",
      " 1   ScheduledDay    110527 non-null  datetime64[ns, UTC]\n",
      " 2   AppointmentDay  110527 non-null  datetime64[ns, UTC]\n",
      " 3   Age             110527 non-null  int64              \n",
      " 4   Neighbourhood   110527 non-null  object             \n",
      " 5   Scholarship     110527 non-null  int64              \n",
      " 6   Hypertension    110527 non-null  int64              \n",
      " 7   Diabetes        110527 non-null  int64              \n",
      " 8   Alcoholism      110527 non-null  int64              \n",
      " 9   Handicap        110527 non-null  int64              \n",
      " 10  SMS_received    110527 non-null  int64              \n",
      " 11  No-show         110527 non-null  object             \n",
      "dtypes: datetime64[ns, UTC](2), int64(7), object(3)\n",
      "memory usage: 10.1+ MB\n"
     ]
    }
   ],
   "source": [
    "# convert ScheduledDay from object to  datetime\n",
    "df['ScheduledDay']=pd.to_datetime(df['ScheduledDay']) \n",
    "# convert AppointmentDay from object to  datetime\n",
    "df['AppointmentDay']=pd.to_datetime(df['AppointmentDay']) \n",
    "# drop PatientId\n",
    "df.drop(['PatientId','AppointmentID'], axis=1 ,inplace=True)\n",
    "df.info()"
   ]
  },
  {
   "cell_type": "markdown",
   "id": "2f812c84",
   "metadata": {
    "papermill": {
     "duration": 0.014657,
     "end_time": "2022-07-09T20:22:20.434501",
     "exception": false,
     "start_time": "2022-07-09T20:22:20.419844",
     "status": "completed"
    },
    "tags": []
   },
   "source": [
    "#### ScheduledDay and AppointmentDay is data type : datetime\n",
    "##### Ensure that there is no duplicate"
   ]
  },
  {
   "cell_type": "code",
   "execution_count": 13,
   "id": "979f011c",
   "metadata": {
    "execution": {
     "iopub.execute_input": "2022-07-09T20:22:20.466531Z",
     "iopub.status.busy": "2022-07-09T20:22:20.465862Z",
     "iopub.status.idle": "2022-07-09T20:22:20.489632Z",
     "shell.execute_reply": "2022-07-09T20:22:20.488599Z"
    },
    "papermill": {
     "duration": 0.042238,
     "end_time": "2022-07-09T20:22:20.491780",
     "exception": false,
     "start_time": "2022-07-09T20:22:20.449542",
     "status": "completed"
    },
    "tags": []
   },
   "outputs": [
    {
     "data": {
      "text/plain": [
       "count    110508.000000\n",
       "mean         37.078374\n",
       "std          23.096101\n",
       "min           0.000000\n",
       "25%          18.000000\n",
       "50%          37.000000\n",
       "75%          55.000000\n",
       "max          97.000000\n",
       "Name: Age, dtype: float64"
      ]
     },
     "execution_count": 13,
     "metadata": {},
     "output_type": "execute_result"
    }
   ],
   "source": [
    "#Remove incorrect data when entering the age field\n",
    "df = df[(df['Age'] >= 0) & (df['Age'] <= 97)]\n",
    "df['Age'].describe()\n"
   ]
  },
  {
   "cell_type": "markdown",
   "id": "a92f2146",
   "metadata": {
    "papermill": {
     "duration": 0.015366,
     "end_time": "2022-07-09T20:22:20.522345",
     "exception": false,
     "start_time": "2022-07-09T20:22:20.506979",
     "status": "completed"
    },
    "tags": []
   },
   "source": [
    "#### now the age field Prepared to work\n",
    "## Get label encoder mappings to see if there is a relationship between features and some of them"
   ]
  },
  {
   "cell_type": "code",
   "execution_count": 14,
   "id": "7bb3f5f1",
   "metadata": {
    "execution": {
     "iopub.execute_input": "2022-07-09T20:22:20.555017Z",
     "iopub.status.busy": "2022-07-09T20:22:20.554646Z",
     "iopub.status.idle": "2022-07-09T20:22:20.711442Z",
     "shell.execute_reply": "2022-07-09T20:22:20.710563Z"
    },
    "papermill": {
     "duration": 0.175646,
     "end_time": "2022-07-09T20:22:20.713622",
     "exception": false,
     "start_time": "2022-07-09T20:22:20.537976",
     "status": "completed"
    },
    "tags": []
   },
   "outputs": [
    {
     "data": {
      "text/html": [
       "<div>\n",
       "<style scoped>\n",
       "    .dataframe tbody tr th:only-of-type {\n",
       "        vertical-align: middle;\n",
       "    }\n",
       "\n",
       "    .dataframe tbody tr th {\n",
       "        vertical-align: top;\n",
       "    }\n",
       "\n",
       "    .dataframe thead th {\n",
       "        text-align: right;\n",
       "    }\n",
       "</style>\n",
       "<table border=\"1\" class=\"dataframe\">\n",
       "  <thead>\n",
       "    <tr style=\"text-align: right;\">\n",
       "      <th></th>\n",
       "      <th>Age</th>\n",
       "      <th>Scholarship</th>\n",
       "      <th>Hypertension</th>\n",
       "      <th>Diabetes</th>\n",
       "      <th>Alcoholism</th>\n",
       "      <th>Handicap</th>\n",
       "      <th>SMS_received</th>\n",
       "      <th>Gender_labeling</th>\n",
       "      <th>Neighbourhood_labeling</th>\n",
       "      <th>No-show_labeling</th>\n",
       "    </tr>\n",
       "  </thead>\n",
       "  <tbody>\n",
       "    <tr>\n",
       "      <th>count</th>\n",
       "      <td>110508.000000</td>\n",
       "      <td>110508.000000</td>\n",
       "      <td>110508.000000</td>\n",
       "      <td>110508.000000</td>\n",
       "      <td>110508.000000</td>\n",
       "      <td>110508.000000</td>\n",
       "      <td>110508.000000</td>\n",
       "      <td>110508.000000</td>\n",
       "      <td>110508.000000</td>\n",
       "      <td>110508.000000</td>\n",
       "    </tr>\n",
       "    <tr>\n",
       "      <th>mean</th>\n",
       "      <td>37.078374</td>\n",
       "      <td>0.098282</td>\n",
       "      <td>0.197207</td>\n",
       "      <td>0.071850</td>\n",
       "      <td>0.030405</td>\n",
       "      <td>0.020225</td>\n",
       "      <td>0.321045</td>\n",
       "      <td>0.350056</td>\n",
       "      <td>41.738562</td>\n",
       "      <td>0.201931</td>\n",
       "    </tr>\n",
       "    <tr>\n",
       "      <th>std</th>\n",
       "      <td>23.096101</td>\n",
       "      <td>0.297698</td>\n",
       "      <td>0.397892</td>\n",
       "      <td>0.258241</td>\n",
       "      <td>0.171700</td>\n",
       "      <td>0.140769</td>\n",
       "      <td>0.466880</td>\n",
       "      <td>0.476989</td>\n",
       "      <td>22.359560</td>\n",
       "      <td>0.401443</td>\n",
       "    </tr>\n",
       "    <tr>\n",
       "      <th>min</th>\n",
       "      <td>0.000000</td>\n",
       "      <td>0.000000</td>\n",
       "      <td>0.000000</td>\n",
       "      <td>0.000000</td>\n",
       "      <td>0.000000</td>\n",
       "      <td>0.000000</td>\n",
       "      <td>0.000000</td>\n",
       "      <td>0.000000</td>\n",
       "      <td>0.000000</td>\n",
       "      <td>0.000000</td>\n",
       "    </tr>\n",
       "    <tr>\n",
       "      <th>25%</th>\n",
       "      <td>18.000000</td>\n",
       "      <td>0.000000</td>\n",
       "      <td>0.000000</td>\n",
       "      <td>0.000000</td>\n",
       "      <td>0.000000</td>\n",
       "      <td>0.000000</td>\n",
       "      <td>0.000000</td>\n",
       "      <td>0.000000</td>\n",
       "      <td>26.000000</td>\n",
       "      <td>0.000000</td>\n",
       "    </tr>\n",
       "    <tr>\n",
       "      <th>50%</th>\n",
       "      <td>37.000000</td>\n",
       "      <td>0.000000</td>\n",
       "      <td>0.000000</td>\n",
       "      <td>0.000000</td>\n",
       "      <td>0.000000</td>\n",
       "      <td>0.000000</td>\n",
       "      <td>0.000000</td>\n",
       "      <td>0.000000</td>\n",
       "      <td>40.000000</td>\n",
       "      <td>0.000000</td>\n",
       "    </tr>\n",
       "    <tr>\n",
       "      <th>75%</th>\n",
       "      <td>55.000000</td>\n",
       "      <td>0.000000</td>\n",
       "      <td>0.000000</td>\n",
       "      <td>0.000000</td>\n",
       "      <td>0.000000</td>\n",
       "      <td>0.000000</td>\n",
       "      <td>1.000000</td>\n",
       "      <td>1.000000</td>\n",
       "      <td>60.000000</td>\n",
       "      <td>0.000000</td>\n",
       "    </tr>\n",
       "    <tr>\n",
       "      <th>max</th>\n",
       "      <td>97.000000</td>\n",
       "      <td>1.000000</td>\n",
       "      <td>1.000000</td>\n",
       "      <td>1.000000</td>\n",
       "      <td>1.000000</td>\n",
       "      <td>1.000000</td>\n",
       "      <td>1.000000</td>\n",
       "      <td>1.000000</td>\n",
       "      <td>80.000000</td>\n",
       "      <td>1.000000</td>\n",
       "    </tr>\n",
       "  </tbody>\n",
       "</table>\n",
       "</div>"
      ],
      "text/plain": [
       "                 Age    Scholarship   Hypertension       Diabetes  \\\n",
       "count  110508.000000  110508.000000  110508.000000  110508.000000   \n",
       "mean       37.078374       0.098282       0.197207       0.071850   \n",
       "std        23.096101       0.297698       0.397892       0.258241   \n",
       "min         0.000000       0.000000       0.000000       0.000000   \n",
       "25%        18.000000       0.000000       0.000000       0.000000   \n",
       "50%        37.000000       0.000000       0.000000       0.000000   \n",
       "75%        55.000000       0.000000       0.000000       0.000000   \n",
       "max        97.000000       1.000000       1.000000       1.000000   \n",
       "\n",
       "          Alcoholism       Handicap   SMS_received  Gender_labeling  \\\n",
       "count  110508.000000  110508.000000  110508.000000    110508.000000   \n",
       "mean        0.030405       0.020225       0.321045         0.350056   \n",
       "std         0.171700       0.140769       0.466880         0.476989   \n",
       "min         0.000000       0.000000       0.000000         0.000000   \n",
       "25%         0.000000       0.000000       0.000000         0.000000   \n",
       "50%         0.000000       0.000000       0.000000         0.000000   \n",
       "75%         0.000000       0.000000       1.000000         1.000000   \n",
       "max         1.000000       1.000000       1.000000         1.000000   \n",
       "\n",
       "       Neighbourhood_labeling  No-show_labeling  \n",
       "count           110508.000000     110508.000000  \n",
       "mean                41.738562          0.201931  \n",
       "std                 22.359560          0.401443  \n",
       "min                  0.000000          0.000000  \n",
       "25%                 26.000000          0.000000  \n",
       "50%                 40.000000          0.000000  \n",
       "75%                 60.000000          0.000000  \n",
       "max                 80.000000          1.000000  "
      ]
     },
     "execution_count": 14,
     "metadata": {},
     "output_type": "execute_result"
    }
   ],
   "source": [
    "#get mappings of a label encoder \n",
    "le=preprocessing.LabelEncoder()\n",
    "#get mappings of a label encoder Gender\n",
    "df['Gender_labeling'] = le.fit_transform(df['Gender'])\n",
    "#get mappings of a label encoder Neighbourhood\n",
    "df['Neighbourhood_labeling'] = le.fit_transform(df['Neighbourhood'])\n",
    "#get mappings of a label encoder No-show\n",
    "df['No-show_labeling'] = le.fit_transform(df['No-show'])\n",
    "df.describe()"
   ]
  },
  {
   "cell_type": "markdown",
   "id": "18d12368",
   "metadata": {
    "papermill": {
     "duration": 0.015544,
     "end_time": "2022-07-09T20:22:20.744937",
     "exception": false,
     "start_time": "2022-07-09T20:22:20.729393",
     "status": "completed"
    },
    "tags": []
   },
   "source": [
    "### Now we make sure the data is clean, next step...\n"
   ]
  },
  {
   "cell_type": "markdown",
   "id": "f9fd82a1",
   "metadata": {
    "papermill": {
     "duration": 0.015338,
     "end_time": "2022-07-09T20:22:20.776225",
     "exception": false,
     "start_time": "2022-07-09T20:22:20.760887",
     "status": "completed"
    },
    "tags": []
   },
   "source": [
    "## Exploratory Data Analysis\n",
    "#### To see if there is a clear relationship between the features and No-show\n"
   ]
  },
  {
   "cell_type": "code",
   "execution_count": 15,
   "id": "a99d7002",
   "metadata": {
    "execution": {
     "iopub.execute_input": "2022-07-09T20:22:20.809981Z",
     "iopub.status.busy": "2022-07-09T20:22:20.809036Z",
     "iopub.status.idle": "2022-07-09T20:22:21.528265Z",
     "shell.execute_reply": "2022-07-09T20:22:21.527302Z"
    },
    "papermill": {
     "duration": 0.739644,
     "end_time": "2022-07-09T20:22:21.531638",
     "exception": false,
     "start_time": "2022-07-09T20:22:20.791994",
     "status": "completed"
    },
    "tags": []
   },
   "outputs": [
    {
     "data": {
      "text/plain": [
       "Text(0.5, 1.0, 'correlation coefficient between No-show and All features ')"
      ]
     },
     "execution_count": 15,
     "metadata": {},
     "output_type": "execute_result"
    },
    {
     "data": {
      "image/png": "[encoded data removed]",
      "text/plain": [
       "<Figure size 864x432 with 2 Axes>"
      ]
     },
     "metadata": {
      "needs_background": "light"
     },
     "output_type": "display_data"
    }
   ],
   "source": [
    "f,ax=plt.subplots(1,1,figsize=(12,6))\n",
    "sns.heatmap(df.corr(),annot=True)\n",
    "ax.set_title('correlation coefficient between No-show and All features ',fontsize=16)"
   ]
  },
  {
   "cell_type": "code",
   "execution_count": 16,
   "id": "9a2bdd6a",
   "metadata": {
    "execution": {
     "iopub.execute_input": "2022-07-09T20:22:21.567087Z",
     "iopub.status.busy": "2022-07-09T20:22:21.566768Z",
     "iopub.status.idle": "2022-07-09T20:22:22.089004Z",
     "shell.execute_reply": "2022-07-09T20:22:22.088102Z"
    },
    "papermill": {
     "duration": 0.54159,
     "end_time": "2022-07-09T20:22:22.090958",
     "exception": false,
     "start_time": "2022-07-09T20:22:21.549368",
     "status": "completed"
    },
    "tags": []
   },
   "outputs": [
    {
     "data": {
      "text/plain": [
       "Text(0.5, 1.0, 'No-show (yes or no)')"
      ]
     },
     "execution_count": 16,
     "metadata": {},
     "output_type": "execute_result"
    },
    {
     "data": {
      "image/png": "[encoded data removed]",
      "text/plain": [
       "<Figure size 1152x432 with 2 Axes>"
      ]
     },
     "metadata": {
      "needs_background": "light"
     },
     "output_type": "display_data"
    }
   ],
   "source": [
    "total_Noshow=df['No-show'].value_counts()\n",
    "total_Noshow.index=['Show-Up','No-Show']\n",
    "\n",
    "f,ax=plt.subplots(1,2,figsize=(16,6))\n",
    "total_Noshow.plot.pie(explode=[0.05,0],autopct='%1.1f%%',ax=ax[0])\n",
    "ax[0].set_title('No-show vs show-up')\n",
    "ax[0].set_ylabel('')\n",
    "ax[0].legend()\n",
    "\n",
    "sns.countplot(x='No-show',hue=\"No-show\",data=df,ax=ax[1])\n",
    "ax[1].set_title('No-show (yes or no)')"
   ]
  },
  {
   "cell_type": "markdown",
   "id": "308affc5",
   "metadata": {
    "papermill": {
     "duration": 0.018774,
     "end_time": "2022-07-09T20:22:22.128034",
     "exception": false,
     "start_time": "2022-07-09T20:22:22.109260",
     "status": "completed"
    },
    "tags": []
   },
   "source": [
    " > note: We note that the show up (80%) rate is large, it is clear from the figure\n",
    "## What gender is the most No-Show?\n"
   ]
  },
  {
   "cell_type": "code",
   "execution_count": 17,
   "id": "7edc826c",
   "metadata": {
    "execution": {
     "iopub.execute_input": "2022-07-09T20:22:22.163922Z",
     "iopub.status.busy": "2022-07-09T20:22:22.163620Z",
     "iopub.status.idle": "2022-07-09T20:22:22.752874Z",
     "shell.execute_reply": "2022-07-09T20:22:22.751977Z"
    },
    "papermill": {
     "duration": 0.609209,
     "end_time": "2022-07-09T20:22:22.754821",
     "exception": false,
     "start_time": "2022-07-09T20:22:22.145612",
     "status": "completed"
    },
    "tags": []
   },
   "outputs": [
    {
     "data": {
      "text/html": [
       "<div>\n",
       "<style scoped>\n",
       "    .dataframe tbody tr th:only-of-type {\n",
       "        vertical-align: middle;\n",
       "    }\n",
       "\n",
       "    .dataframe tbody tr th {\n",
       "        vertical-align: top;\n",
       "    }\n",
       "\n",
       "    .dataframe thead th {\n",
       "        text-align: right;\n",
       "    }\n",
       "</style>\n",
       "<table border=\"1\" class=\"dataframe\">\n",
       "  <thead>\n",
       "    <tr style=\"text-align: right;\">\n",
       "      <th>No-show</th>\n",
       "      <th>No</th>\n",
       "      <th>Yes</th>\n",
       "    </tr>\n",
       "    <tr>\n",
       "      <th>Gender</th>\n",
       "      <th></th>\n",
       "      <th></th>\n",
       "    </tr>\n",
       "  </thead>\n",
       "  <tbody>\n",
       "    <tr>\n",
       "      <th>F</th>\n",
       "      <td>57234</td>\n",
       "      <td>14590</td>\n",
       "    </tr>\n",
       "    <tr>\n",
       "      <th>M</th>\n",
       "      <td>30959</td>\n",
       "      <td>7725</td>\n",
       "    </tr>\n",
       "  </tbody>\n",
       "</table>\n",
       "</div>"
      ],
      "text/plain": [
       "No-show     No    Yes\n",
       "Gender               \n",
       "F        57234  14590\n",
       "M        30959   7725"
      ]
     },
     "metadata": {},
     "output_type": "display_data"
    },
    {
     "data": {
      "text/plain": [
       "Text(0.5, 1.0, 'Female vs Male on No-show/show-up')"
      ]
     },
     "execution_count": 17,
     "metadata": {},
     "output_type": "execute_result"
    },
    {
     "data": {
      "image/png": "[encoded data removed]",
      "text/plain": [
       "<Figure size 864x432 with 2 Axes>"
      ]
     },
     "metadata": {
      "needs_background": "light"
     },
     "output_type": "display_data"
    }
   ],
   "source": [
    "display(df.groupby(['Gender','No-show']).size().unstack())\n",
    "f,ax=plt.subplots(1,2,figsize=(12,6))\n",
    "\n",
    "sns.countplot(x='Gender',data=df,ax=ax[0])\n",
    "ax[0].set_title('Female vs Male on total count',fontsize=16)\n",
    "# Female vs Male on No-show\n",
    "sns.countplot(x='Gender',hue=\"No-show\",data=df,ax=ax[1])\n",
    "ax[1].set_title('Female vs Male on No-show/show-up',fontsize=16)"
   ]
  },
  {
   "cell_type": "code",
   "execution_count": 18,
   "id": "a7cf8102",
   "metadata": {
    "execution": {
     "iopub.execute_input": "2022-07-09T20:22:22.793211Z",
     "iopub.status.busy": "2022-07-09T20:22:22.792400Z",
     "iopub.status.idle": "2022-07-09T20:22:23.192131Z",
     "shell.execute_reply": "2022-07-09T20:22:23.191213Z"
    },
    "papermill": {
     "duration": 0.421175,
     "end_time": "2022-07-09T20:22:23.194223",
     "exception": false,
     "start_time": "2022-07-09T20:22:22.773048",
     "status": "completed"
    },
    "tags": []
   },
   "outputs": [
    {
     "data": {
      "text/plain": [
       "<matplotlib.legend.Legend at 0x7f3d29ad8890>"
      ]
     },
     "execution_count": 18,
     "metadata": {},
     "output_type": "execute_result"
    },
    {
     "data": {
      "image/png": "[encoded data removed]",
      "text/plain": [
       "<Figure size 1296x576 with 2 Axes>"
      ]
     },
     "metadata": {},
     "output_type": "display_data"
    }
   ],
   "source": [
    "f,ax=plt.subplots(1,2,figsize=(18,8))\n",
    "\n",
    "female = df[df['Gender']=='F'].groupby(['No-show'])['No-show'].count()\n",
    "female.index=['show-up','No-show']\n",
    "\n",
    "\n",
    "male = df[df['Gender']=='M'].groupby(['No-show'])['No-show'].count()\n",
    "male.index=['show-up','No-show']\n",
    "\n",
    "\n",
    "\n",
    "female.plot.pie(explode=[0.05,0],autopct='%1.1f%%',ax=ax[0])\n",
    "ax[0].set_title('female : No-show VS show-up',fontsize=15)\n",
    "ax[0].set_ylabel('')\n",
    "ax[0].legend()\n",
    "\n",
    "male.plot.pie(explode=[0.05,0],autopct='%1.1f%%',ax=ax[1])\n",
    "ax[1].set_title('Male : No-show VS show-up',fontsize=15)\n",
    "ax[1].set_ylabel('')\n",
    "ax[1].legend()"
   ]
  },
  {
   "cell_type": "markdown",
   "id": "d34535a1",
   "metadata": {
    "papermill": {
     "duration": 0.017944,
     "end_time": "2022-07-09T20:22:23.230501",
     "exception": false,
     "start_time": "2022-07-09T20:22:23.212557",
     "status": "completed"
    },
    "tags": []
   },
   "source": [
    ">note: It is clear that there is no specific gender that no-show its date (no-show is not related to gender),The no-show rate is almost equal\n",
    "\n"
   ]
  },
  {
   "cell_type": "markdown",
   "id": "c7ea0227",
   "metadata": {
    "papermill": {
     "duration": 0.017649,
     "end_time": "2022-07-09T20:22:23.266392",
     "exception": false,
     "start_time": "2022-07-09T20:22:23.248743",
     "status": "completed"
    },
    "tags": []
   },
   "source": [
    "## Is there a specific schedule date that is not suitable for many?\n"
   ]
  },
  {
   "cell_type": "code",
   "execution_count": 19,
   "id": "a2a23cbb",
   "metadata": {
    "execution": {
     "iopub.execute_input": "2022-07-09T20:22:23.304417Z",
     "iopub.status.busy": "2022-07-09T20:22:23.304096Z",
     "iopub.status.idle": "2022-07-09T20:22:23.402724Z",
     "shell.execute_reply": "2022-07-09T20:22:23.401773Z"
    },
    "papermill": {
     "duration": 0.120388,
     "end_time": "2022-07-09T20:22:23.404919",
     "exception": false,
     "start_time": "2022-07-09T20:22:23.284531",
     "status": "completed"
    },
    "tags": []
   },
   "outputs": [
    {
     "data": {
      "text/html": [
       "<div>\n",
       "<style scoped>\n",
       "    .dataframe tbody tr th:only-of-type {\n",
       "        vertical-align: middle;\n",
       "    }\n",
       "\n",
       "    .dataframe tbody tr th {\n",
       "        vertical-align: top;\n",
       "    }\n",
       "\n",
       "    .dataframe thead th {\n",
       "        text-align: right;\n",
       "    }\n",
       "</style>\n",
       "<table border=\"1\" class=\"dataframe\">\n",
       "  <thead>\n",
       "    <tr style=\"text-align: right;\">\n",
       "      <th>No-show</th>\n",
       "      <th>No</th>\n",
       "      <th>Yes</th>\n",
       "    </tr>\n",
       "    <tr>\n",
       "      <th>ScheduledDay_DateOnly</th>\n",
       "      <th></th>\n",
       "      <th></th>\n",
       "    </tr>\n",
       "  </thead>\n",
       "  <tbody>\n",
       "    <tr>\n",
       "      <th>2015-11-10</th>\n",
       "      <td>1.0</td>\n",
       "      <td>NaN</td>\n",
       "    </tr>\n",
       "    <tr>\n",
       "      <th>2015-12-03</th>\n",
       "      <td>NaN</td>\n",
       "      <td>1.0</td>\n",
       "    </tr>\n",
       "    <tr>\n",
       "      <th>2015-12-07</th>\n",
       "      <td>8.0</td>\n",
       "      <td>2.0</td>\n",
       "    </tr>\n",
       "    <tr>\n",
       "      <th>2015-12-08</th>\n",
       "      <td>24.0</td>\n",
       "      <td>13.0</td>\n",
       "    </tr>\n",
       "    <tr>\n",
       "      <th>2015-12-14</th>\n",
       "      <td>5.0</td>\n",
       "      <td>1.0</td>\n",
       "    </tr>\n",
       "    <tr>\n",
       "      <th>...</th>\n",
       "      <td>...</td>\n",
       "      <td>...</td>\n",
       "    </tr>\n",
       "    <tr>\n",
       "      <th>2016-06-03</th>\n",
       "      <td>2191.0</td>\n",
       "      <td>306.0</td>\n",
       "    </tr>\n",
       "    <tr>\n",
       "      <th>2016-06-04</th>\n",
       "      <td>1.0</td>\n",
       "      <td>NaN</td>\n",
       "    </tr>\n",
       "    <tr>\n",
       "      <th>2016-06-06</th>\n",
       "      <td>2203.0</td>\n",
       "      <td>198.0</td>\n",
       "    </tr>\n",
       "    <tr>\n",
       "      <th>2016-06-07</th>\n",
       "      <td>1664.0</td>\n",
       "      <td>115.0</td>\n",
       "    </tr>\n",
       "    <tr>\n",
       "      <th>2016-06-08</th>\n",
       "      <td>1469.0</td>\n",
       "      <td>68.0</td>\n",
       "    </tr>\n",
       "  </tbody>\n",
       "</table>\n",
       "<p>111 rows × 2 columns</p>\n",
       "</div>"
      ],
      "text/plain": [
       "No-show                    No    Yes\n",
       "ScheduledDay_DateOnly               \n",
       "2015-11-10                1.0    NaN\n",
       "2015-12-03                NaN    1.0\n",
       "2015-12-07                8.0    2.0\n",
       "2015-12-08               24.0   13.0\n",
       "2015-12-14                5.0    1.0\n",
       "...                       ...    ...\n",
       "2016-06-03             2191.0  306.0\n",
       "2016-06-04                1.0    NaN\n",
       "2016-06-06             2203.0  198.0\n",
       "2016-06-07             1664.0  115.0\n",
       "2016-06-08             1469.0   68.0\n",
       "\n",
       "[111 rows x 2 columns]"
      ]
     },
     "execution_count": 19,
     "metadata": {},
     "output_type": "execute_result"
    }
   ],
   "source": [
    "df['ScheduledDay_DateOnly']=df['ScheduledDay'].dt.date\n",
    "df.groupby(['ScheduledDay_DateOnly','No-show']).size().unstack()"
   ]
  },
  {
   "cell_type": "code",
   "execution_count": 20,
   "id": "a4c71990",
   "metadata": {
    "execution": {
     "iopub.execute_input": "2022-07-09T20:22:23.444765Z",
     "iopub.status.busy": "2022-07-09T20:22:23.443304Z",
     "iopub.status.idle": "2022-07-09T20:22:23.480179Z",
     "shell.execute_reply": "2022-07-09T20:22:23.479180Z"
    },
    "papermill": {
     "duration": 0.058837,
     "end_time": "2022-07-09T20:22:23.482574",
     "exception": false,
     "start_time": "2022-07-09T20:22:23.423737",
     "status": "completed"
    },
    "tags": []
   },
   "outputs": [
    {
     "data": {
      "text/plain": [
       "ScheduledDay_DateOnly\n",
       "2016-05-02    3417.0\n",
       "Name: No, dtype: float64"
      ]
     },
     "execution_count": 20,
     "metadata": {},
     "output_type": "execute_result"
    }
   ],
   "source": [
    "df.groupby(['ScheduledDay_DateOnly','No-show']).size().unstack()['No'].sort_values(ascending=False).head(1)\n"
   ]
  },
  {
   "cell_type": "code",
   "execution_count": 21,
   "id": "e9650073",
   "metadata": {
    "execution": {
     "iopub.execute_input": "2022-07-09T20:22:23.521377Z",
     "iopub.status.busy": "2022-07-09T20:22:23.520726Z",
     "iopub.status.idle": "2022-07-09T20:22:23.556402Z",
     "shell.execute_reply": "2022-07-09T20:22:23.555464Z"
    },
    "papermill": {
     "duration": 0.057314,
     "end_time": "2022-07-09T20:22:23.558671",
     "exception": false,
     "start_time": "2022-07-09T20:22:23.501357",
     "status": "completed"
    },
    "tags": []
   },
   "outputs": [
    {
     "data": {
      "text/plain": [
       "ScheduledDay_DateOnly\n",
       "2016-05-03    893.0\n",
       "Name: Yes, dtype: float64"
      ]
     },
     "execution_count": 21,
     "metadata": {},
     "output_type": "execute_result"
    }
   ],
   "source": [
    "df.groupby(['ScheduledDay_DateOnly','No-show']).size().unstack()['Yes'].sort_values(ascending=False).head(1)\n"
   ]
  },
  {
   "cell_type": "code",
   "execution_count": 22,
   "id": "0d3f4634",
   "metadata": {
    "execution": {
     "iopub.execute_input": "2022-07-09T20:22:23.598067Z",
     "iopub.status.busy": "2022-07-09T20:22:23.597217Z",
     "iopub.status.idle": "2022-07-09T20:22:23.871246Z",
     "shell.execute_reply": "2022-07-09T20:22:23.870331Z"
    },
    "papermill": {
     "duration": 0.29525,
     "end_time": "2022-07-09T20:22:23.873371",
     "exception": false,
     "start_time": "2022-07-09T20:22:23.578121",
     "status": "completed"
    },
    "tags": []
   },
   "outputs": [
    {
     "data": {
      "text/plain": [
       "<AxesSubplot:xlabel='ScheduledDay_DateOnly'>"
      ]
     },
     "execution_count": 22,
     "metadata": {},
     "output_type": "execute_result"
    },
    {
     "data": {
      "image/png": "[encoded data removed]",
      "text/plain": [
       "<Figure size 1152x432 with 1 Axes>"
      ]
     },
     "metadata": {
      "needs_background": "light"
     },
     "output_type": "display_data"
    }
   ],
   "source": [
    "f,ax=plt.subplots(1,1,figsize=(16,6))\n",
    "df.groupby(['ScheduledDay_DateOnly','No-show']).size().unstack().plot(ax=ax)\n"
   ]
  },
  {
   "cell_type": "markdown",
   "id": "f88282f1",
   "metadata": {
    "papermill": {
     "duration": 0.019087,
     "end_time": "2022-07-09T20:22:23.912815",
     "exception": false,
     "start_time": "2022-07-09T20:22:23.893728",
     "status": "completed"
    },
    "tags": []
   },
   "source": [
    "> note : Starting in the fourth month, people flock to the doctors, make an appointment, and show up\n",
    "\n",
    "- The most No-show is: 2016-05-03, Count : 893.0\n",
    "- The most show up is: 2016-05-02, Count : 3417.0\n",
    "## What is the average age of those who No-Show?\n"
   ]
  },
  {
   "cell_type": "code",
   "execution_count": 23,
   "id": "806977f6",
   "metadata": {
    "execution": {
     "iopub.execute_input": "2022-07-09T20:22:23.953523Z",
     "iopub.status.busy": "2022-07-09T20:22:23.952967Z",
     "iopub.status.idle": "2022-07-09T20:22:24.164360Z",
     "shell.execute_reply": "2022-07-09T20:22:24.163489Z"
    },
    "papermill": {
     "duration": 0.233706,
     "end_time": "2022-07-09T20:22:24.166345",
     "exception": false,
     "start_time": "2022-07-09T20:22:23.932639",
     "status": "completed"
    },
    "tags": []
   },
   "outputs": [
    {
     "data": {
      "image/png": "[encoded data removed]",
      "text/plain": [
       "<Figure size 1152x576 with 1 Axes>"
      ]
     },
     "metadata": {
      "needs_background": "light"
     },
     "output_type": "display_data"
    }
   ],
   "source": [
    "f,ax=plt.subplots(1,1,figsize=(16,8))\n",
    "df['Age'].hist()\n",
    "ax.set_title('Age distribution',fontsize=20)\n",
    "ax.set_xlabel('Age')\n",
    "ax.set_ylabel('Count')\n",
    "ax.grid=True"
   ]
  },
  {
   "cell_type": "code",
   "execution_count": 24,
   "id": "b9d71157",
   "metadata": {
    "execution": {
     "iopub.execute_input": "2022-07-09T20:22:24.206748Z",
     "iopub.status.busy": "2022-07-09T20:22:24.206468Z",
     "iopub.status.idle": "2022-07-09T20:22:24.263179Z",
     "shell.execute_reply": "2022-07-09T20:22:24.261927Z"
    },
    "papermill": {
     "duration": 0.079201,
     "end_time": "2022-07-09T20:22:24.265211",
     "exception": false,
     "start_time": "2022-07-09T20:22:24.186010",
     "status": "completed"
    },
    "tags": []
   },
   "outputs": [
    {
     "name": "stdout",
     "output_type": "stream",
     "text": [
      "the average age of those who No-Show : 34.303965942191354\n",
      "the average age of those who Show up : 37.780368056421715\n"
     ]
    }
   ],
   "source": [
    "print('the average age of those who No-Show :' ,df[df['No-show']=='Yes']['Age'].mean())\n",
    "print('the average age of those who Show up :', df[df['No-show']=='No']['Age'].mean())"
   ]
  },
  {
   "cell_type": "code",
   "execution_count": 25,
   "id": "9635c2c0",
   "metadata": {
    "execution": {
     "iopub.execute_input": "2022-07-09T20:22:24.306595Z",
     "iopub.status.busy": "2022-07-09T20:22:24.305842Z",
     "iopub.status.idle": "2022-07-09T20:22:24.731772Z",
     "shell.execute_reply": "2022-07-09T20:22:24.730829Z"
    },
    "papermill": {
     "duration": 0.448916,
     "end_time": "2022-07-09T20:22:24.733866",
     "exception": false,
     "start_time": "2022-07-09T20:22:24.284950",
     "status": "completed"
    },
    "tags": []
   },
   "outputs": [
    {
     "data": {
      "text/plain": [
       "Text(0.5, 1.0, 'age vs No-show/show Up')"
      ]
     },
     "execution_count": 25,
     "metadata": {},
     "output_type": "execute_result"
    },
    {
     "data": {
      "image/png": "[encoded data removed]",
      "text/plain": [
       "<Figure size 1728x864 with 1 Axes>"
      ]
     },
     "metadata": {
      "needs_background": "light"
     },
     "output_type": "display_data"
    }
   ],
   "source": [
    "f,ax=plt.subplots(1,1,figsize=(24,12))\n",
    "\n",
    "sns.histplot(data=df, x=\"Age\",hue='No-show', element=\"step\",ax=ax)\n",
    "ax.set_title('age vs No-show/show Up',fontsize=24)"
   ]
  },
  {
   "cell_type": "markdown",
   "id": "c5a61e83",
   "metadata": {
    "papermill": {
     "duration": 0.02085,
     "end_time": "2022-07-09T20:22:24.776172",
     "exception": false,
     "start_time": "2022-07-09T20:22:24.755322",
     "status": "completed"
    },
    "tags": []
   },
   "source": [
    "## What is the total number of people in each neighborhood?\n"
   ]
  },
  {
   "cell_type": "code",
   "execution_count": 26,
   "id": "b54140ea",
   "metadata": {
    "execution": {
     "iopub.execute_input": "2022-07-09T20:22:24.818476Z",
     "iopub.status.busy": "2022-07-09T20:22:24.818172Z",
     "iopub.status.idle": "2022-07-09T20:22:26.010723Z",
     "shell.execute_reply": "2022-07-09T20:22:26.009812Z"
    },
    "papermill": {
     "duration": 1.216948,
     "end_time": "2022-07-09T20:22:26.013493",
     "exception": false,
     "start_time": "2022-07-09T20:22:24.796545",
     "status": "completed"
    },
    "tags": []
   },
   "outputs": [
    {
     "data": {
      "text/plain": [
       "JARDIM CAMBURI                 7717\n",
       "MARIA ORTIZ                    5804\n",
       "RESISTÊNCIA                    4431\n",
       "JARDIM DA PENHA                3877\n",
       "ITARARÉ                        3514\n",
       "                               ... \n",
       "ILHA DO BOI                      35\n",
       "ILHA DO FRADE                    10\n",
       "AEROPORTO                         8\n",
       "ILHAS OCEÂNICAS DE TRINDADE       2\n",
       "PARQUE INDUSTRIAL                 1\n",
       "Name: Neighbourhood, Length: 81, dtype: int64"
      ]
     },
     "execution_count": 26,
     "metadata": {},
     "output_type": "execute_result"
    },
    {
     "data": {
      "image/png": "[encoded data removed]",
      "text/plain": [
       "<Figure size 1296x576 with 1 Axes>"
      ]
     },
     "metadata": {
      "needs_background": "light"
     },
     "output_type": "display_data"
    }
   ],
   "source": [
    "f,ax=plt.subplots(1,1,figsize=(18,8))\n",
    "df['Neighbourhood'].value_counts().plot(kind='bar',ax=ax)\n",
    "ax.set_title(\"the total number of people in each neighborhood\",fontsize=20)\n",
    "df['Neighbourhood'].value_counts()"
   ]
  },
  {
   "cell_type": "markdown",
   "id": "5d3e40d3",
   "metadata": {
    "execution": {
     "iopub.execute_input": "2022-07-09T17:22:39.802162Z",
     "iopub.status.busy": "2022-07-09T17:22:39.801425Z",
     "iopub.status.idle": "2022-07-09T17:22:40.249538Z",
     "shell.execute_reply": "2022-07-09T17:22:40.248473Z",
     "shell.execute_reply.started": "2022-07-09T17:22:39.802124Z"
    },
    "papermill": {
     "duration": 0.021721,
     "end_time": "2022-07-09T20:22:26.057075",
     "exception": false,
     "start_time": "2022-07-09T20:22:26.035354",
     "status": "completed"
    },
    "tags": []
   },
   "source": [
    "##  No-show and Show Up rate for each Neighbourhood, divide each count by the total count , use proportions\n"
   ]
  },
  {
   "cell_type": "code",
   "execution_count": 27,
   "id": "6b32e294",
   "metadata": {
    "execution": {
     "iopub.execute_input": "2022-07-09T20:22:26.101365Z",
     "iopub.status.busy": "2022-07-09T20:22:26.101064Z",
     "iopub.status.idle": "2022-07-09T20:22:27.376824Z",
     "shell.execute_reply": "2022-07-09T20:22:27.375767Z"
    },
    "papermill": {
     "duration": 1.301186,
     "end_time": "2022-07-09T20:22:27.379977",
     "exception": false,
     "start_time": "2022-07-09T20:22:26.078791",
     "status": "completed"
    },
    "tags": []
   },
   "outputs": [
    {
     "data": {
      "text/plain": [
       "Text(0.5, 1.0, 'The relation between Neighbourhood and No-show')"
      ]
     },
     "execution_count": 27,
     "metadata": {},
     "output_type": "execute_result"
    },
    {
     "data": {
      "image/png": "[encoded data removed]",
      "text/plain": [
       "<Figure size 1296x576 with 1 Axes>"
      ]
     },
     "metadata": {
      "needs_background": "light"
     },
     "output_type": "display_data"
    }
   ],
   "source": [
    "f,ax=plt.subplots(1,1,figsize=(18,8))\n",
    "showup=df[df['No-show']=='No']['Neighbourhood'].value_counts()/df['Neighbourhood'].value_counts()\n",
    "noshow= df[df['No-show']=='Yes']['Neighbourhood'].value_counts()/df['Neighbourhood'].value_counts()\n",
    "(showup).plot(kind='bar',ax=ax,alpha=.5,color='#A54158')\n",
    "(noshow).plot(kind='bar',ax=ax,alpha=.5,)\n",
    "ax.set_title('The relation between Neighbourhood and No-show',fontsize=20)"
   ]
  },
  {
   "cell_type": "markdown",
   "id": "060e0893",
   "metadata": {
    "papermill": {
     "duration": 0.024605,
     "end_time": "2022-07-09T20:22:27.428025",
     "exception": false,
     "start_time": "2022-07-09T20:22:27.403420",
     "status": "completed"
    },
    "tags": []
   },
   "source": [
    "## Are these features(Handcap,Scholarship,Hipertension,Diabetes,Alcoholism,Handcap,SMS_received) correlation for no-show? Explain .\n"
   ]
  },
  {
   "cell_type": "code",
   "execution_count": 28,
   "id": "e277a7f6",
   "metadata": {
    "execution": {
     "iopub.execute_input": "2022-07-09T20:22:27.474899Z",
     "iopub.status.busy": "2022-07-09T20:22:27.474588Z",
     "iopub.status.idle": "2022-07-09T20:22:28.604770Z",
     "shell.execute_reply": "2022-07-09T20:22:28.603790Z"
    },
    "papermill": {
     "duration": 1.155825,
     "end_time": "2022-07-09T20:22:28.607043",
     "exception": false,
     "start_time": "2022-07-09T20:22:27.451218",
     "status": "completed"
    },
    "tags": []
   },
   "outputs": [
    {
     "data": {
      "text/plain": [
       "Text(0.5, 1.0, 'Scholarship vs No-show')"
      ]
     },
     "execution_count": 28,
     "metadata": {},
     "output_type": "execute_result"
    },
    {
     "data": {
      "image/png": "[encoded data removed]",
      "text/plain": [
       "<Figure size 1296x864 with 6 Axes>"
      ]
     },
     "metadata": {
      "needs_background": "light"
     },
     "output_type": "display_data"
    }
   ],
   "source": [
    "f,ax=plt.subplots(2,3,figsize=(18,12))\n",
    "sns.countplot(x='SMS_received', data=df, hue='No-show', ax=ax[0,0]);\n",
    "ax[0,0].set_title('SMS_received vs No-show',fontsize=16)\n",
    "\n",
    "sns.countplot(x='Hypertension', data=df, hue='No-show', ax=ax[0,1]);\n",
    "ax[0,1].set_title('Hypertension vs No-show',fontsize=16)\n",
    "\n",
    "sns.countplot(x='Diabetes', data=df, hue='No-show', ax=ax[0,2]);\n",
    "ax[0,2].set_title('Diabetes vs No-show',fontsize=16)\n",
    "\n",
    "sns.countplot(x='Alcoholism', data=df, hue='No-show', ax=ax[1,0]);\n",
    "ax[1,0].set_title('Alcoholism vs No-show',fontsize=16)\n",
    "\n",
    "sns.countplot(x='Handicap', data=df, hue='No-show', ax=ax[1,1]);\n",
    "ax[1,1].set_title('Handicap vs No-show',fontsize=16)\n",
    "\n",
    "sns.countplot(x='Scholarship', data=df, hue='No-show', ax=ax[1,2]);\n",
    "ax[1,2].set_title('Scholarship vs No-show',fontsize=16)"
   ]
  },
  {
   "cell_type": "markdown",
   "id": "dff6a24b",
   "metadata": {
    "papermill": {
     "duration": 0.02284,
     "end_time": "2022-07-09T20:22:28.654009",
     "exception": false,
     "start_time": "2022-07-09T20:22:28.631169",
     "status": "completed"
    },
    "tags": []
   },
   "source": [
    "- no-show in SMS_received is higher than in SMS_unreceived.\n",
    "- hypertension is more common than diabetes in the patients\n",
    "- The data does not contain many alcoholics"
   ]
  },
  {
   "cell_type": "markdown",
   "id": "25f46417",
   "metadata": {
    "papermill": {
     "duration": 0.02344,
     "end_time": "2022-07-09T20:22:28.700572",
     "exception": false,
     "start_time": "2022-07-09T20:22:28.677132",
     "status": "completed"
    },
    "tags": []
   },
   "source": [
    "## Data Preparation"
   ]
  },
  {
   "cell_type": "code",
   "execution_count": 29,
   "id": "2baa23e4",
   "metadata": {
    "execution": {
     "iopub.execute_input": "2022-07-09T20:22:28.751974Z",
     "iopub.status.busy": "2022-07-09T20:22:28.751617Z",
     "iopub.status.idle": "2022-07-09T20:22:28.786309Z",
     "shell.execute_reply": "2022-07-09T20:22:28.785403Z"
    },
    "papermill": {
     "duration": 0.061782,
     "end_time": "2022-07-09T20:22:28.788573",
     "exception": false,
     "start_time": "2022-07-09T20:22:28.726791",
     "status": "completed"
    },
    "tags": []
   },
   "outputs": [],
   "source": [
    "df['ScheduledMonth']= df.ScheduledDay.dt.month\n",
    "df['ScheduledDayNum']= df.ScheduledDay.dt.day\n",
    "df['ScheduledYear']= df.ScheduledDay.dt.year"
   ]
  },
  {
   "cell_type": "code",
   "execution_count": 30,
   "id": "72b5e907",
   "metadata": {
    "execution": {
     "iopub.execute_input": "2022-07-09T20:22:28.835751Z",
     "iopub.status.busy": "2022-07-09T20:22:28.835470Z",
     "iopub.status.idle": "2022-07-09T20:22:28.853858Z",
     "shell.execute_reply": "2022-07-09T20:22:28.852975Z"
    },
    "papermill": {
     "duration": 0.044398,
     "end_time": "2022-07-09T20:22:28.855838",
     "exception": false,
     "start_time": "2022-07-09T20:22:28.811440",
     "status": "completed"
    },
    "tags": []
   },
   "outputs": [
    {
     "data": {
      "text/html": [
       "<div>\n",
       "<style scoped>\n",
       "    .dataframe tbody tr th:only-of-type {\n",
       "        vertical-align: middle;\n",
       "    }\n",
       "\n",
       "    .dataframe tbody tr th {\n",
       "        vertical-align: top;\n",
       "    }\n",
       "\n",
       "    .dataframe thead th {\n",
       "        text-align: right;\n",
       "    }\n",
       "</style>\n",
       "<table border=\"1\" class=\"dataframe\">\n",
       "  <thead>\n",
       "    <tr style=\"text-align: right;\">\n",
       "      <th></th>\n",
       "      <th>Gender</th>\n",
       "      <th>ScheduledDay</th>\n",
       "      <th>AppointmentDay</th>\n",
       "      <th>Age</th>\n",
       "      <th>Neighbourhood</th>\n",
       "      <th>Scholarship</th>\n",
       "      <th>Hypertension</th>\n",
       "      <th>Diabetes</th>\n",
       "      <th>Alcoholism</th>\n",
       "      <th>Handicap</th>\n",
       "      <th>SMS_received</th>\n",
       "      <th>No-show</th>\n",
       "      <th>Gender_labeling</th>\n",
       "      <th>Neighbourhood_labeling</th>\n",
       "      <th>No-show_labeling</th>\n",
       "      <th>ScheduledDay_DateOnly</th>\n",
       "      <th>ScheduledMonth</th>\n",
       "      <th>ScheduledDayNum</th>\n",
       "      <th>ScheduledYear</th>\n",
       "      <th>ScheduledTime</th>\n",
       "    </tr>\n",
       "  </thead>\n",
       "  <tbody>\n",
       "    <tr>\n",
       "      <th>0</th>\n",
       "      <td>F</td>\n",
       "      <td>2016-04-29 18:38:08+00:00</td>\n",
       "      <td>2016-04-29 00:00:00+00:00</td>\n",
       "      <td>62</td>\n",
       "      <td>JARDIM DA PENHA</td>\n",
       "      <td>0</td>\n",
       "      <td>1</td>\n",
       "      <td>0</td>\n",
       "      <td>0</td>\n",
       "      <td>0</td>\n",
       "      <td>0</td>\n",
       "      <td>No</td>\n",
       "      <td>0</td>\n",
       "      <td>39</td>\n",
       "      <td>0</td>\n",
       "      <td>2016-04-29</td>\n",
       "      <td>4</td>\n",
       "      <td>29</td>\n",
       "      <td>2016</td>\n",
       "      <td>2016-04-29 18:38:08+00:00</td>\n",
       "    </tr>\n",
       "    <tr>\n",
       "      <th>1</th>\n",
       "      <td>M</td>\n",
       "      <td>2016-04-29 16:08:27+00:00</td>\n",
       "      <td>2016-04-29 00:00:00+00:00</td>\n",
       "      <td>56</td>\n",
       "      <td>JARDIM DA PENHA</td>\n",
       "      <td>0</td>\n",
       "      <td>0</td>\n",
       "      <td>0</td>\n",
       "      <td>0</td>\n",
       "      <td>0</td>\n",
       "      <td>0</td>\n",
       "      <td>No</td>\n",
       "      <td>1</td>\n",
       "      <td>39</td>\n",
       "      <td>0</td>\n",
       "      <td>2016-04-29</td>\n",
       "      <td>4</td>\n",
       "      <td>29</td>\n",
       "      <td>2016</td>\n",
       "      <td>2016-04-29 16:08:27+00:00</td>\n",
       "    </tr>\n",
       "    <tr>\n",
       "      <th>2</th>\n",
       "      <td>F</td>\n",
       "      <td>2016-04-29 16:19:04+00:00</td>\n",
       "      <td>2016-04-29 00:00:00+00:00</td>\n",
       "      <td>62</td>\n",
       "      <td>MATA DA PRAIA</td>\n",
       "      <td>0</td>\n",
       "      <td>0</td>\n",
       "      <td>0</td>\n",
       "      <td>0</td>\n",
       "      <td>0</td>\n",
       "      <td>0</td>\n",
       "      <td>No</td>\n",
       "      <td>0</td>\n",
       "      <td>45</td>\n",
       "      <td>0</td>\n",
       "      <td>2016-04-29</td>\n",
       "      <td>4</td>\n",
       "      <td>29</td>\n",
       "      <td>2016</td>\n",
       "      <td>2016-04-29 16:19:04+00:00</td>\n",
       "    </tr>\n",
       "    <tr>\n",
       "      <th>3</th>\n",
       "      <td>F</td>\n",
       "      <td>2016-04-29 17:29:31+00:00</td>\n",
       "      <td>2016-04-29 00:00:00+00:00</td>\n",
       "      <td>8</td>\n",
       "      <td>PONTAL DE CAMBURI</td>\n",
       "      <td>0</td>\n",
       "      <td>0</td>\n",
       "      <td>0</td>\n",
       "      <td>0</td>\n",
       "      <td>0</td>\n",
       "      <td>0</td>\n",
       "      <td>No</td>\n",
       "      <td>0</td>\n",
       "      <td>54</td>\n",
       "      <td>0</td>\n",
       "      <td>2016-04-29</td>\n",
       "      <td>4</td>\n",
       "      <td>29</td>\n",
       "      <td>2016</td>\n",
       "      <td>2016-04-29 17:29:31+00:00</td>\n",
       "    </tr>\n",
       "    <tr>\n",
       "      <th>4</th>\n",
       "      <td>F</td>\n",
       "      <td>2016-04-29 16:07:23+00:00</td>\n",
       "      <td>2016-04-29 00:00:00+00:00</td>\n",
       "      <td>56</td>\n",
       "      <td>JARDIM DA PENHA</td>\n",
       "      <td>0</td>\n",
       "      <td>1</td>\n",
       "      <td>1</td>\n",
       "      <td>0</td>\n",
       "      <td>0</td>\n",
       "      <td>0</td>\n",
       "      <td>No</td>\n",
       "      <td>0</td>\n",
       "      <td>39</td>\n",
       "      <td>0</td>\n",
       "      <td>2016-04-29</td>\n",
       "      <td>4</td>\n",
       "      <td>29</td>\n",
       "      <td>2016</td>\n",
       "      <td>2016-04-29 16:07:23+00:00</td>\n",
       "    </tr>\n",
       "  </tbody>\n",
       "</table>\n",
       "</div>"
      ],
      "text/plain": [
       "  Gender              ScheduledDay            AppointmentDay  Age  \\\n",
       "0      F 2016-04-29 18:38:08+00:00 2016-04-29 00:00:00+00:00   62   \n",
       "1      M 2016-04-29 16:08:27+00:00 2016-04-29 00:00:00+00:00   56   \n",
       "2      F 2016-04-29 16:19:04+00:00 2016-04-29 00:00:00+00:00   62   \n",
       "3      F 2016-04-29 17:29:31+00:00 2016-04-29 00:00:00+00:00    8   \n",
       "4      F 2016-04-29 16:07:23+00:00 2016-04-29 00:00:00+00:00   56   \n",
       "\n",
       "       Neighbourhood  Scholarship  Hypertension  Diabetes  Alcoholism  \\\n",
       "0    JARDIM DA PENHA            0             1         0           0   \n",
       "1    JARDIM DA PENHA            0             0         0           0   \n",
       "2      MATA DA PRAIA            0             0         0           0   \n",
       "3  PONTAL DE CAMBURI            0             0         0           0   \n",
       "4    JARDIM DA PENHA            0             1         1           0   \n",
       "\n",
       "   Handicap  SMS_received No-show  Gender_labeling  Neighbourhood_labeling  \\\n",
       "0         0             0      No                0                      39   \n",
       "1         0             0      No                1                      39   \n",
       "2         0             0      No                0                      45   \n",
       "3         0             0      No                0                      54   \n",
       "4         0             0      No                0                      39   \n",
       "\n",
       "   No-show_labeling ScheduledDay_DateOnly  ScheduledMonth  ScheduledDayNum  \\\n",
       "0                 0            2016-04-29               4               29   \n",
       "1                 0            2016-04-29               4               29   \n",
       "2                 0            2016-04-29               4               29   \n",
       "3                 0            2016-04-29               4               29   \n",
       "4                 0            2016-04-29               4               29   \n",
       "\n",
       "   ScheduledYear             ScheduledTime  \n",
       "0           2016 2016-04-29 18:38:08+00:00  \n",
       "1           2016 2016-04-29 16:08:27+00:00  \n",
       "2           2016 2016-04-29 16:19:04+00:00  \n",
       "3           2016 2016-04-29 17:29:31+00:00  \n",
       "4           2016 2016-04-29 16:07:23+00:00  "
      ]
     },
     "execution_count": 30,
     "metadata": {},
     "output_type": "execute_result"
    }
   ],
   "source": [
    "df['ScheduledTime']= df.ScheduledDay\n",
    "df.head()"
   ]
  },
  {
   "cell_type": "code",
   "execution_count": 31,
   "id": "0dd3e4bf",
   "metadata": {
    "execution": {
     "iopub.execute_input": "2022-07-09T20:22:28.906558Z",
     "iopub.status.busy": "2022-07-09T20:22:28.905825Z",
     "iopub.status.idle": "2022-07-09T20:22:31.539240Z",
     "shell.execute_reply": "2022-07-09T20:22:31.538198Z"
    },
    "papermill": {
     "duration": 2.660962,
     "end_time": "2022-07-09T20:22:31.541787",
     "exception": false,
     "start_time": "2022-07-09T20:22:28.880825",
     "status": "completed"
    },
    "tags": []
   },
   "outputs": [],
   "source": [
    "df.loc[df.ScheduledTime.dt.strftime('%H:%M:%S').between('04:00:00','11:59:00'),'ScheduledTimeText']='Morning'\n",
    "df.loc[df.ScheduledTime.dt.strftime('%H:%M:%S').between('11:59:00','18:00:00'),'ScheduledTimeText']='Noon'\n",
    "df.loc[df.ScheduledTime.dt.strftime('%H:%M:%S').between('18:00:00','23:59:00'),'ScheduledTimeText']='Evenin'\n",
    "   "
   ]
  },
  {
   "cell_type": "code",
   "execution_count": 32,
   "id": "d4d6709a",
   "metadata": {
    "execution": {
     "iopub.execute_input": "2022-07-09T20:22:31.590740Z",
     "iopub.status.busy": "2022-07-09T20:22:31.590414Z",
     "iopub.status.idle": "2022-07-09T20:22:31.609383Z",
     "shell.execute_reply": "2022-07-09T20:22:31.608373Z"
    },
    "papermill": {
     "duration": 0.045598,
     "end_time": "2022-07-09T20:22:31.611319",
     "exception": false,
     "start_time": "2022-07-09T20:22:31.565721",
     "status": "completed"
    },
    "tags": []
   },
   "outputs": [
    {
     "data": {
      "text/plain": [
       "Morning    68356\n",
       "Noon       40221\n",
       "Evenin      1931\n",
       "Name: ScheduledTimeText, dtype: int64"
      ]
     },
     "execution_count": 32,
     "metadata": {},
     "output_type": "execute_result"
    }
   ],
   "source": [
    "df['ScheduledTimeText'].value_counts()"
   ]
  },
  {
   "cell_type": "code",
   "execution_count": 33,
   "id": "8b9cc681",
   "metadata": {
    "execution": {
     "iopub.execute_input": "2022-07-09T20:22:31.660230Z",
     "iopub.status.busy": "2022-07-09T20:22:31.659656Z",
     "iopub.status.idle": "2022-07-09T20:22:31.681886Z",
     "shell.execute_reply": "2022-07-09T20:22:31.680967Z"
    },
    "papermill": {
     "duration": 0.048496,
     "end_time": "2022-07-09T20:22:31.683859",
     "exception": false,
     "start_time": "2022-07-09T20:22:31.635363",
     "status": "completed"
    },
    "tags": []
   },
   "outputs": [
    {
     "data": {
      "text/html": [
       "<div>\n",
       "<style scoped>\n",
       "    .dataframe tbody tr th:only-of-type {\n",
       "        vertical-align: middle;\n",
       "    }\n",
       "\n",
       "    .dataframe tbody tr th {\n",
       "        vertical-align: top;\n",
       "    }\n",
       "\n",
       "    .dataframe thead th {\n",
       "        text-align: right;\n",
       "    }\n",
       "</style>\n",
       "<table border=\"1\" class=\"dataframe\">\n",
       "  <thead>\n",
       "    <tr style=\"text-align: right;\">\n",
       "      <th></th>\n",
       "      <th>Gender</th>\n",
       "      <th>ScheduledDay</th>\n",
       "      <th>AppointmentDay</th>\n",
       "      <th>Age</th>\n",
       "      <th>Neighbourhood</th>\n",
       "      <th>Scholarship</th>\n",
       "      <th>Hypertension</th>\n",
       "      <th>Diabetes</th>\n",
       "      <th>Alcoholism</th>\n",
       "      <th>Handicap</th>\n",
       "      <th>...</th>\n",
       "      <th>No-show</th>\n",
       "      <th>Gender_labeling</th>\n",
       "      <th>Neighbourhood_labeling</th>\n",
       "      <th>No-show_labeling</th>\n",
       "      <th>ScheduledDay_DateOnly</th>\n",
       "      <th>ScheduledMonth</th>\n",
       "      <th>ScheduledDayNum</th>\n",
       "      <th>ScheduledYear</th>\n",
       "      <th>ScheduledTime</th>\n",
       "      <th>ScheduledTimeText</th>\n",
       "    </tr>\n",
       "  </thead>\n",
       "  <tbody>\n",
       "    <tr>\n",
       "      <th>0</th>\n",
       "      <td>F</td>\n",
       "      <td>2016-04-29 18:38:08+00:00</td>\n",
       "      <td>2016-04-29 00:00:00+00:00</td>\n",
       "      <td>62</td>\n",
       "      <td>JARDIM DA PENHA</td>\n",
       "      <td>0</td>\n",
       "      <td>1</td>\n",
       "      <td>0</td>\n",
       "      <td>0</td>\n",
       "      <td>0</td>\n",
       "      <td>...</td>\n",
       "      <td>No</td>\n",
       "      <td>0</td>\n",
       "      <td>39</td>\n",
       "      <td>0</td>\n",
       "      <td>2016-04-29</td>\n",
       "      <td>4</td>\n",
       "      <td>29</td>\n",
       "      <td>2016</td>\n",
       "      <td>2016-04-29 18:38:08+00:00</td>\n",
       "      <td>Evenin</td>\n",
       "    </tr>\n",
       "    <tr>\n",
       "      <th>1</th>\n",
       "      <td>M</td>\n",
       "      <td>2016-04-29 16:08:27+00:00</td>\n",
       "      <td>2016-04-29 00:00:00+00:00</td>\n",
       "      <td>56</td>\n",
       "      <td>JARDIM DA PENHA</td>\n",
       "      <td>0</td>\n",
       "      <td>0</td>\n",
       "      <td>0</td>\n",
       "      <td>0</td>\n",
       "      <td>0</td>\n",
       "      <td>...</td>\n",
       "      <td>No</td>\n",
       "      <td>1</td>\n",
       "      <td>39</td>\n",
       "      <td>0</td>\n",
       "      <td>2016-04-29</td>\n",
       "      <td>4</td>\n",
       "      <td>29</td>\n",
       "      <td>2016</td>\n",
       "      <td>2016-04-29 16:08:27+00:00</td>\n",
       "      <td>Noon</td>\n",
       "    </tr>\n",
       "    <tr>\n",
       "      <th>2</th>\n",
       "      <td>F</td>\n",
       "      <td>2016-04-29 16:19:04+00:00</td>\n",
       "      <td>2016-04-29 00:00:00+00:00</td>\n",
       "      <td>62</td>\n",
       "      <td>MATA DA PRAIA</td>\n",
       "      <td>0</td>\n",
       "      <td>0</td>\n",
       "      <td>0</td>\n",
       "      <td>0</td>\n",
       "      <td>0</td>\n",
       "      <td>...</td>\n",
       "      <td>No</td>\n",
       "      <td>0</td>\n",
       "      <td>45</td>\n",
       "      <td>0</td>\n",
       "      <td>2016-04-29</td>\n",
       "      <td>4</td>\n",
       "      <td>29</td>\n",
       "      <td>2016</td>\n",
       "      <td>2016-04-29 16:19:04+00:00</td>\n",
       "      <td>Noon</td>\n",
       "    </tr>\n",
       "    <tr>\n",
       "      <th>3</th>\n",
       "      <td>F</td>\n",
       "      <td>2016-04-29 17:29:31+00:00</td>\n",
       "      <td>2016-04-29 00:00:00+00:00</td>\n",
       "      <td>8</td>\n",
       "      <td>PONTAL DE CAMBURI</td>\n",
       "      <td>0</td>\n",
       "      <td>0</td>\n",
       "      <td>0</td>\n",
       "      <td>0</td>\n",
       "      <td>0</td>\n",
       "      <td>...</td>\n",
       "      <td>No</td>\n",
       "      <td>0</td>\n",
       "      <td>54</td>\n",
       "      <td>0</td>\n",
       "      <td>2016-04-29</td>\n",
       "      <td>4</td>\n",
       "      <td>29</td>\n",
       "      <td>2016</td>\n",
       "      <td>2016-04-29 17:29:31+00:00</td>\n",
       "      <td>Noon</td>\n",
       "    </tr>\n",
       "    <tr>\n",
       "      <th>4</th>\n",
       "      <td>F</td>\n",
       "      <td>2016-04-29 16:07:23+00:00</td>\n",
       "      <td>2016-04-29 00:00:00+00:00</td>\n",
       "      <td>56</td>\n",
       "      <td>JARDIM DA PENHA</td>\n",
       "      <td>0</td>\n",
       "      <td>1</td>\n",
       "      <td>1</td>\n",
       "      <td>0</td>\n",
       "      <td>0</td>\n",
       "      <td>...</td>\n",
       "      <td>No</td>\n",
       "      <td>0</td>\n",
       "      <td>39</td>\n",
       "      <td>0</td>\n",
       "      <td>2016-04-29</td>\n",
       "      <td>4</td>\n",
       "      <td>29</td>\n",
       "      <td>2016</td>\n",
       "      <td>2016-04-29 16:07:23+00:00</td>\n",
       "      <td>Noon</td>\n",
       "    </tr>\n",
       "  </tbody>\n",
       "</table>\n",
       "<p>5 rows × 21 columns</p>\n",
       "</div>"
      ],
      "text/plain": [
       "  Gender              ScheduledDay            AppointmentDay  Age  \\\n",
       "0      F 2016-04-29 18:38:08+00:00 2016-04-29 00:00:00+00:00   62   \n",
       "1      M 2016-04-29 16:08:27+00:00 2016-04-29 00:00:00+00:00   56   \n",
       "2      F 2016-04-29 16:19:04+00:00 2016-04-29 00:00:00+00:00   62   \n",
       "3      F 2016-04-29 17:29:31+00:00 2016-04-29 00:00:00+00:00    8   \n",
       "4      F 2016-04-29 16:07:23+00:00 2016-04-29 00:00:00+00:00   56   \n",
       "\n",
       "       Neighbourhood  Scholarship  Hypertension  Diabetes  Alcoholism  \\\n",
       "0    JARDIM DA PENHA            0             1         0           0   \n",
       "1    JARDIM DA PENHA            0             0         0           0   \n",
       "2      MATA DA PRAIA            0             0         0           0   \n",
       "3  PONTAL DE CAMBURI            0             0         0           0   \n",
       "4    JARDIM DA PENHA            0             1         1           0   \n",
       "\n",
       "   Handicap  ...  No-show Gender_labeling  Neighbourhood_labeling  \\\n",
       "0         0  ...       No               0                      39   \n",
       "1         0  ...       No               1                      39   \n",
       "2         0  ...       No               0                      45   \n",
       "3         0  ...       No               0                      54   \n",
       "4         0  ...       No               0                      39   \n",
       "\n",
       "   No-show_labeling  ScheduledDay_DateOnly ScheduledMonth  ScheduledDayNum  \\\n",
       "0                 0             2016-04-29              4               29   \n",
       "1                 0             2016-04-29              4               29   \n",
       "2                 0             2016-04-29              4               29   \n",
       "3                 0             2016-04-29              4               29   \n",
       "4                 0             2016-04-29              4               29   \n",
       "\n",
       "   ScheduledYear             ScheduledTime ScheduledTimeText  \n",
       "0           2016 2016-04-29 18:38:08+00:00            Evenin  \n",
       "1           2016 2016-04-29 16:08:27+00:00              Noon  \n",
       "2           2016 2016-04-29 16:19:04+00:00              Noon  \n",
       "3           2016 2016-04-29 17:29:31+00:00              Noon  \n",
       "4           2016 2016-04-29 16:07:23+00:00              Noon  \n",
       "\n",
       "[5 rows x 21 columns]"
      ]
     },
     "execution_count": 33,
     "metadata": {},
     "output_type": "execute_result"
    }
   ],
   "source": [
    "df.head()\n"
   ]
  },
  {
   "cell_type": "code",
   "execution_count": 34,
   "id": "bec1bdc7",
   "metadata": {
    "execution": {
     "iopub.execute_input": "2022-07-09T20:22:31.733815Z",
     "iopub.status.busy": "2022-07-09T20:22:31.733058Z",
     "iopub.status.idle": "2022-07-09T20:22:31.766418Z",
     "shell.execute_reply": "2022-07-09T20:22:31.765496Z"
    },
    "papermill": {
     "duration": 0.060938,
     "end_time": "2022-07-09T20:22:31.768622",
     "exception": false,
     "start_time": "2022-07-09T20:22:31.707684",
     "status": "completed"
    },
    "tags": []
   },
   "outputs": [
    {
     "data": {
      "text/html": [
       "<div>\n",
       "<style scoped>\n",
       "    .dataframe tbody tr th:only-of-type {\n",
       "        vertical-align: middle;\n",
       "    }\n",
       "\n",
       "    .dataframe tbody tr th {\n",
       "        vertical-align: top;\n",
       "    }\n",
       "\n",
       "    .dataframe thead th {\n",
       "        text-align: right;\n",
       "    }\n",
       "</style>\n",
       "<table border=\"1\" class=\"dataframe\">\n",
       "  <thead>\n",
       "    <tr style=\"text-align: right;\">\n",
       "      <th></th>\n",
       "      <th>Age</th>\n",
       "      <th>Scholarship</th>\n",
       "      <th>Hypertension</th>\n",
       "      <th>Diabetes</th>\n",
       "      <th>Alcoholism</th>\n",
       "      <th>Handicap</th>\n",
       "      <th>SMS_received</th>\n",
       "      <th>Gender_labeling</th>\n",
       "      <th>Neighbourhood_labeling</th>\n",
       "      <th>No-show_labeling</th>\n",
       "      <th>ScheduledMonth</th>\n",
       "      <th>ScheduledDayNum</th>\n",
       "      <th>ScheduledYear</th>\n",
       "      <th>ScheduledTimeText</th>\n",
       "    </tr>\n",
       "  </thead>\n",
       "  <tbody>\n",
       "    <tr>\n",
       "      <th>0</th>\n",
       "      <td>62</td>\n",
       "      <td>0</td>\n",
       "      <td>1</td>\n",
       "      <td>0</td>\n",
       "      <td>0</td>\n",
       "      <td>0</td>\n",
       "      <td>0</td>\n",
       "      <td>0</td>\n",
       "      <td>39</td>\n",
       "      <td>0</td>\n",
       "      <td>4</td>\n",
       "      <td>29</td>\n",
       "      <td>2016</td>\n",
       "      <td>Evenin</td>\n",
       "    </tr>\n",
       "    <tr>\n",
       "      <th>1</th>\n",
       "      <td>56</td>\n",
       "      <td>0</td>\n",
       "      <td>0</td>\n",
       "      <td>0</td>\n",
       "      <td>0</td>\n",
       "      <td>0</td>\n",
       "      <td>0</td>\n",
       "      <td>1</td>\n",
       "      <td>39</td>\n",
       "      <td>0</td>\n",
       "      <td>4</td>\n",
       "      <td>29</td>\n",
       "      <td>2016</td>\n",
       "      <td>Noon</td>\n",
       "    </tr>\n",
       "    <tr>\n",
       "      <th>2</th>\n",
       "      <td>62</td>\n",
       "      <td>0</td>\n",
       "      <td>0</td>\n",
       "      <td>0</td>\n",
       "      <td>0</td>\n",
       "      <td>0</td>\n",
       "      <td>0</td>\n",
       "      <td>0</td>\n",
       "      <td>45</td>\n",
       "      <td>0</td>\n",
       "      <td>4</td>\n",
       "      <td>29</td>\n",
       "      <td>2016</td>\n",
       "      <td>Noon</td>\n",
       "    </tr>\n",
       "    <tr>\n",
       "      <th>3</th>\n",
       "      <td>8</td>\n",
       "      <td>0</td>\n",
       "      <td>0</td>\n",
       "      <td>0</td>\n",
       "      <td>0</td>\n",
       "      <td>0</td>\n",
       "      <td>0</td>\n",
       "      <td>0</td>\n",
       "      <td>54</td>\n",
       "      <td>0</td>\n",
       "      <td>4</td>\n",
       "      <td>29</td>\n",
       "      <td>2016</td>\n",
       "      <td>Noon</td>\n",
       "    </tr>\n",
       "    <tr>\n",
       "      <th>4</th>\n",
       "      <td>56</td>\n",
       "      <td>0</td>\n",
       "      <td>1</td>\n",
       "      <td>1</td>\n",
       "      <td>0</td>\n",
       "      <td>0</td>\n",
       "      <td>0</td>\n",
       "      <td>0</td>\n",
       "      <td>39</td>\n",
       "      <td>0</td>\n",
       "      <td>4</td>\n",
       "      <td>29</td>\n",
       "      <td>2016</td>\n",
       "      <td>Noon</td>\n",
       "    </tr>\n",
       "  </tbody>\n",
       "</table>\n",
       "</div>"
      ],
      "text/plain": [
       "   Age  Scholarship  Hypertension  Diabetes  Alcoholism  Handicap  \\\n",
       "0   62            0             1         0           0         0   \n",
       "1   56            0             0         0           0         0   \n",
       "2   62            0             0         0           0         0   \n",
       "3    8            0             0         0           0         0   \n",
       "4   56            0             1         1           0         0   \n",
       "\n",
       "   SMS_received  Gender_labeling  Neighbourhood_labeling  No-show_labeling  \\\n",
       "0             0                0                      39                 0   \n",
       "1             0                1                      39                 0   \n",
       "2             0                0                      45                 0   \n",
       "3             0                0                      54                 0   \n",
       "4             0                0                      39                 0   \n",
       "\n",
       "   ScheduledMonth  ScheduledDayNum  ScheduledYear ScheduledTimeText  \n",
       "0               4               29           2016            Evenin  \n",
       "1               4               29           2016              Noon  \n",
       "2               4               29           2016              Noon  \n",
       "3               4               29           2016              Noon  \n",
       "4               4               29           2016              Noon  "
      ]
     },
     "execution_count": 34,
     "metadata": {},
     "output_type": "execute_result"
    }
   ],
   "source": [
    "df.drop(['Gender','ScheduledDay','AppointmentDay','Neighbourhood','No-show','ScheduledDay_DateOnly','ScheduledTime'], axis=1 ,inplace=True)\n",
    "df.head()"
   ]
  },
  {
   "cell_type": "code",
   "execution_count": 35,
   "id": "8c715139",
   "metadata": {
    "execution": {
     "iopub.execute_input": "2022-07-09T20:22:31.818898Z",
     "iopub.status.busy": "2022-07-09T20:22:31.818580Z",
     "iopub.status.idle": "2022-07-09T20:22:31.929472Z",
     "shell.execute_reply": "2022-07-09T20:22:31.928369Z"
    },
    "papermill": {
     "duration": 0.137811,
     "end_time": "2022-07-09T20:22:31.931493",
     "exception": false,
     "start_time": "2022-07-09T20:22:31.793682",
     "status": "completed"
    },
    "tags": []
   },
   "outputs": [
    {
     "data": {
      "text/html": [
       "<div>\n",
       "<style scoped>\n",
       "    .dataframe tbody tr th:only-of-type {\n",
       "        vertical-align: middle;\n",
       "    }\n",
       "\n",
       "    .dataframe tbody tr th {\n",
       "        vertical-align: top;\n",
       "    }\n",
       "\n",
       "    .dataframe thead th {\n",
       "        text-align: right;\n",
       "    }\n",
       "</style>\n",
       "<table border=\"1\" class=\"dataframe\">\n",
       "  <thead>\n",
       "    <tr style=\"text-align: right;\">\n",
       "      <th></th>\n",
       "      <th>Age</th>\n",
       "      <th>Scholarship</th>\n",
       "      <th>Hypertension</th>\n",
       "      <th>Diabetes</th>\n",
       "      <th>Alcoholism</th>\n",
       "      <th>Handicap</th>\n",
       "      <th>SMS_received</th>\n",
       "      <th>Gender_labeling</th>\n",
       "      <th>Neighbourhood_labeling</th>\n",
       "      <th>No-show_labeling</th>\n",
       "      <th>ScheduledMonth</th>\n",
       "      <th>ScheduledDayNum</th>\n",
       "      <th>ScheduledYear</th>\n",
       "      <th>ScheduledTimeText</th>\n",
       "    </tr>\n",
       "  </thead>\n",
       "  <tbody>\n",
       "    <tr>\n",
       "      <th>count</th>\n",
       "      <td>110508.000000</td>\n",
       "      <td>110508.000000</td>\n",
       "      <td>110508.000000</td>\n",
       "      <td>110508.000000</td>\n",
       "      <td>110508.000000</td>\n",
       "      <td>110508.000000</td>\n",
       "      <td>110508.000000</td>\n",
       "      <td>110508.000000</td>\n",
       "      <td>110508.000000</td>\n",
       "      <td>110508.000000</td>\n",
       "      <td>110508.000000</td>\n",
       "      <td>110508.000000</td>\n",
       "      <td>110508.000000</td>\n",
       "      <td>110508.000000</td>\n",
       "    </tr>\n",
       "    <tr>\n",
       "      <th>mean</th>\n",
       "      <td>37.078374</td>\n",
       "      <td>0.098282</td>\n",
       "      <td>0.197207</td>\n",
       "      <td>0.071850</td>\n",
       "      <td>0.030405</td>\n",
       "      <td>0.020225</td>\n",
       "      <td>0.321045</td>\n",
       "      <td>0.350056</td>\n",
       "      <td>41.738562</td>\n",
       "      <td>0.201931</td>\n",
       "      <td>4.823895</td>\n",
       "      <td>14.251900</td>\n",
       "      <td>2015.999439</td>\n",
       "      <td>1.346491</td>\n",
       "    </tr>\n",
       "    <tr>\n",
       "      <th>std</th>\n",
       "      <td>23.096101</td>\n",
       "      <td>0.297698</td>\n",
       "      <td>0.397892</td>\n",
       "      <td>0.258241</td>\n",
       "      <td>0.171700</td>\n",
       "      <td>0.140769</td>\n",
       "      <td>0.466880</td>\n",
       "      <td>0.476989</td>\n",
       "      <td>22.359560</td>\n",
       "      <td>0.401443</td>\n",
       "      <td>0.715746</td>\n",
       "      <td>9.345539</td>\n",
       "      <td>0.023680</td>\n",
       "      <td>0.511258</td>\n",
       "    </tr>\n",
       "    <tr>\n",
       "      <th>min</th>\n",
       "      <td>0.000000</td>\n",
       "      <td>0.000000</td>\n",
       "      <td>0.000000</td>\n",
       "      <td>0.000000</td>\n",
       "      <td>0.000000</td>\n",
       "      <td>0.000000</td>\n",
       "      <td>0.000000</td>\n",
       "      <td>0.000000</td>\n",
       "      <td>0.000000</td>\n",
       "      <td>0.000000</td>\n",
       "      <td>1.000000</td>\n",
       "      <td>1.000000</td>\n",
       "      <td>2015.000000</td>\n",
       "      <td>0.000000</td>\n",
       "    </tr>\n",
       "    <tr>\n",
       "      <th>25%</th>\n",
       "      <td>18.000000</td>\n",
       "      <td>0.000000</td>\n",
       "      <td>0.000000</td>\n",
       "      <td>0.000000</td>\n",
       "      <td>0.000000</td>\n",
       "      <td>0.000000</td>\n",
       "      <td>0.000000</td>\n",
       "      <td>0.000000</td>\n",
       "      <td>26.000000</td>\n",
       "      <td>0.000000</td>\n",
       "      <td>4.000000</td>\n",
       "      <td>6.000000</td>\n",
       "      <td>2016.000000</td>\n",
       "      <td>1.000000</td>\n",
       "    </tr>\n",
       "    <tr>\n",
       "      <th>50%</th>\n",
       "      <td>37.000000</td>\n",
       "      <td>0.000000</td>\n",
       "      <td>0.000000</td>\n",
       "      <td>0.000000</td>\n",
       "      <td>0.000000</td>\n",
       "      <td>0.000000</td>\n",
       "      <td>0.000000</td>\n",
       "      <td>0.000000</td>\n",
       "      <td>40.000000</td>\n",
       "      <td>0.000000</td>\n",
       "      <td>5.000000</td>\n",
       "      <td>13.000000</td>\n",
       "      <td>2016.000000</td>\n",
       "      <td>1.000000</td>\n",
       "    </tr>\n",
       "    <tr>\n",
       "      <th>75%</th>\n",
       "      <td>55.000000</td>\n",
       "      <td>0.000000</td>\n",
       "      <td>0.000000</td>\n",
       "      <td>0.000000</td>\n",
       "      <td>0.000000</td>\n",
       "      <td>0.000000</td>\n",
       "      <td>1.000000</td>\n",
       "      <td>1.000000</td>\n",
       "      <td>60.000000</td>\n",
       "      <td>0.000000</td>\n",
       "      <td>5.000000</td>\n",
       "      <td>22.000000</td>\n",
       "      <td>2016.000000</td>\n",
       "      <td>2.000000</td>\n",
       "    </tr>\n",
       "    <tr>\n",
       "      <th>max</th>\n",
       "      <td>97.000000</td>\n",
       "      <td>1.000000</td>\n",
       "      <td>1.000000</td>\n",
       "      <td>1.000000</td>\n",
       "      <td>1.000000</td>\n",
       "      <td>1.000000</td>\n",
       "      <td>1.000000</td>\n",
       "      <td>1.000000</td>\n",
       "      <td>80.000000</td>\n",
       "      <td>1.000000</td>\n",
       "      <td>12.000000</td>\n",
       "      <td>31.000000</td>\n",
       "      <td>2016.000000</td>\n",
       "      <td>2.000000</td>\n",
       "    </tr>\n",
       "  </tbody>\n",
       "</table>\n",
       "</div>"
      ],
      "text/plain": [
       "                 Age    Scholarship   Hypertension       Diabetes  \\\n",
       "count  110508.000000  110508.000000  110508.000000  110508.000000   \n",
       "mean       37.078374       0.098282       0.197207       0.071850   \n",
       "std        23.096101       0.297698       0.397892       0.258241   \n",
       "min         0.000000       0.000000       0.000000       0.000000   \n",
       "25%        18.000000       0.000000       0.000000       0.000000   \n",
       "50%        37.000000       0.000000       0.000000       0.000000   \n",
       "75%        55.000000       0.000000       0.000000       0.000000   \n",
       "max        97.000000       1.000000       1.000000       1.000000   \n",
       "\n",
       "          Alcoholism       Handicap   SMS_received  Gender_labeling  \\\n",
       "count  110508.000000  110508.000000  110508.000000    110508.000000   \n",
       "mean        0.030405       0.020225       0.321045         0.350056   \n",
       "std         0.171700       0.140769       0.466880         0.476989   \n",
       "min         0.000000       0.000000       0.000000         0.000000   \n",
       "25%         0.000000       0.000000       0.000000         0.000000   \n",
       "50%         0.000000       0.000000       0.000000         0.000000   \n",
       "75%         0.000000       0.000000       1.000000         1.000000   \n",
       "max         1.000000       1.000000       1.000000         1.000000   \n",
       "\n",
       "       Neighbourhood_labeling  No-show_labeling  ScheduledMonth  \\\n",
       "count           110508.000000     110508.000000   110508.000000   \n",
       "mean                41.738562          0.201931        4.823895   \n",
       "std                 22.359560          0.401443        0.715746   \n",
       "min                  0.000000          0.000000        1.000000   \n",
       "25%                 26.000000          0.000000        4.000000   \n",
       "50%                 40.000000          0.000000        5.000000   \n",
       "75%                 60.000000          0.000000        5.000000   \n",
       "max                 80.000000          1.000000       12.000000   \n",
       "\n",
       "       ScheduledDayNum  ScheduledYear  ScheduledTimeText  \n",
       "count    110508.000000  110508.000000      110508.000000  \n",
       "mean         14.251900    2015.999439           1.346491  \n",
       "std           9.345539       0.023680           0.511258  \n",
       "min           1.000000    2015.000000           0.000000  \n",
       "25%           6.000000    2016.000000           1.000000  \n",
       "50%          13.000000    2016.000000           1.000000  \n",
       "75%          22.000000    2016.000000           2.000000  \n",
       "max          31.000000    2016.000000           2.000000  "
      ]
     },
     "execution_count": 35,
     "metadata": {},
     "output_type": "execute_result"
    }
   ],
   "source": [
    "#get mappings of a label encoder \n",
    "le=preprocessing.LabelEncoder()\n",
    "#get mappings of a label encoder Gender\n",
    "df['ScheduledTimeText'] = le.fit_transform(df['ScheduledTimeText'])\n",
    "df.describe()"
   ]
  },
  {
   "cell_type": "markdown",
   "id": "b7c14a28",
   "metadata": {
    "papermill": {
     "duration": 0.025231,
     "end_time": "2022-07-09T20:22:31.982307",
     "exception": false,
     "start_time": "2022-07-09T20:22:31.957076",
     "status": "completed"
    },
    "tags": []
   },
   "source": [
    "## Divide Data into Train & Test"
   ]
  },
  {
   "cell_type": "code",
   "execution_count": 36,
   "id": "5c4653f0",
   "metadata": {
    "execution": {
     "iopub.execute_input": "2022-07-09T20:22:32.033268Z",
     "iopub.status.busy": "2022-07-09T20:22:32.032961Z",
     "iopub.status.idle": "2022-07-09T20:22:32.054780Z",
     "shell.execute_reply": "2022-07-09T20:22:32.053813Z"
    },
    "papermill": {
     "duration": 0.049248,
     "end_time": "2022-07-09T20:22:32.056767",
     "exception": false,
     "start_time": "2022-07-09T20:22:32.007519",
     "status": "completed"
    },
    "tags": []
   },
   "outputs": [
    {
     "data": {
      "text/html": [
       "<div>\n",
       "<style scoped>\n",
       "    .dataframe tbody tr th:only-of-type {\n",
       "        vertical-align: middle;\n",
       "    }\n",
       "\n",
       "    .dataframe tbody tr th {\n",
       "        vertical-align: top;\n",
       "    }\n",
       "\n",
       "    .dataframe thead th {\n",
       "        text-align: right;\n",
       "    }\n",
       "</style>\n",
       "<table border=\"1\" class=\"dataframe\">\n",
       "  <thead>\n",
       "    <tr style=\"text-align: right;\">\n",
       "      <th></th>\n",
       "      <th>No-show_labeling</th>\n",
       "    </tr>\n",
       "  </thead>\n",
       "  <tbody>\n",
       "    <tr>\n",
       "      <th>0</th>\n",
       "      <td>0</td>\n",
       "    </tr>\n",
       "    <tr>\n",
       "      <th>1</th>\n",
       "      <td>0</td>\n",
       "    </tr>\n",
       "    <tr>\n",
       "      <th>2</th>\n",
       "      <td>0</td>\n",
       "    </tr>\n",
       "    <tr>\n",
       "      <th>3</th>\n",
       "      <td>0</td>\n",
       "    </tr>\n",
       "    <tr>\n",
       "      <th>4</th>\n",
       "      <td>0</td>\n",
       "    </tr>\n",
       "  </tbody>\n",
       "</table>\n",
       "</div>"
      ],
      "text/plain": [
       "   No-show_labeling\n",
       "0                 0\n",
       "1                 0\n",
       "2                 0\n",
       "3                 0\n",
       "4                 0"
      ]
     },
     "metadata": {},
     "output_type": "display_data"
    },
    {
     "data": {
      "text/html": [
       "<div>\n",
       "<style scoped>\n",
       "    .dataframe tbody tr th:only-of-type {\n",
       "        vertical-align: middle;\n",
       "    }\n",
       "\n",
       "    .dataframe tbody tr th {\n",
       "        vertical-align: top;\n",
       "    }\n",
       "\n",
       "    .dataframe thead th {\n",
       "        text-align: right;\n",
       "    }\n",
       "</style>\n",
       "<table border=\"1\" class=\"dataframe\">\n",
       "  <thead>\n",
       "    <tr style=\"text-align: right;\">\n",
       "      <th></th>\n",
       "      <th>Age</th>\n",
       "      <th>Scholarship</th>\n",
       "      <th>Hypertension</th>\n",
       "      <th>Diabetes</th>\n",
       "      <th>Alcoholism</th>\n",
       "      <th>Handicap</th>\n",
       "      <th>SMS_received</th>\n",
       "      <th>Gender_labeling</th>\n",
       "      <th>Neighbourhood_labeling</th>\n",
       "      <th>ScheduledMonth</th>\n",
       "      <th>ScheduledDayNum</th>\n",
       "      <th>ScheduledYear</th>\n",
       "      <th>ScheduledTimeText</th>\n",
       "    </tr>\n",
       "  </thead>\n",
       "  <tbody>\n",
       "    <tr>\n",
       "      <th>0</th>\n",
       "      <td>62</td>\n",
       "      <td>0</td>\n",
       "      <td>1</td>\n",
       "      <td>0</td>\n",
       "      <td>0</td>\n",
       "      <td>0</td>\n",
       "      <td>0</td>\n",
       "      <td>0</td>\n",
       "      <td>39</td>\n",
       "      <td>4</td>\n",
       "      <td>29</td>\n",
       "      <td>2016</td>\n",
       "      <td>0</td>\n",
       "    </tr>\n",
       "    <tr>\n",
       "      <th>1</th>\n",
       "      <td>56</td>\n",
       "      <td>0</td>\n",
       "      <td>0</td>\n",
       "      <td>0</td>\n",
       "      <td>0</td>\n",
       "      <td>0</td>\n",
       "      <td>0</td>\n",
       "      <td>1</td>\n",
       "      <td>39</td>\n",
       "      <td>4</td>\n",
       "      <td>29</td>\n",
       "      <td>2016</td>\n",
       "      <td>2</td>\n",
       "    </tr>\n",
       "    <tr>\n",
       "      <th>2</th>\n",
       "      <td>62</td>\n",
       "      <td>0</td>\n",
       "      <td>0</td>\n",
       "      <td>0</td>\n",
       "      <td>0</td>\n",
       "      <td>0</td>\n",
       "      <td>0</td>\n",
       "      <td>0</td>\n",
       "      <td>45</td>\n",
       "      <td>4</td>\n",
       "      <td>29</td>\n",
       "      <td>2016</td>\n",
       "      <td>2</td>\n",
       "    </tr>\n",
       "    <tr>\n",
       "      <th>3</th>\n",
       "      <td>8</td>\n",
       "      <td>0</td>\n",
       "      <td>0</td>\n",
       "      <td>0</td>\n",
       "      <td>0</td>\n",
       "      <td>0</td>\n",
       "      <td>0</td>\n",
       "      <td>0</td>\n",
       "      <td>54</td>\n",
       "      <td>4</td>\n",
       "      <td>29</td>\n",
       "      <td>2016</td>\n",
       "      <td>2</td>\n",
       "    </tr>\n",
       "    <tr>\n",
       "      <th>4</th>\n",
       "      <td>56</td>\n",
       "      <td>0</td>\n",
       "      <td>1</td>\n",
       "      <td>1</td>\n",
       "      <td>0</td>\n",
       "      <td>0</td>\n",
       "      <td>0</td>\n",
       "      <td>0</td>\n",
       "      <td>39</td>\n",
       "      <td>4</td>\n",
       "      <td>29</td>\n",
       "      <td>2016</td>\n",
       "      <td>2</td>\n",
       "    </tr>\n",
       "    <tr>\n",
       "      <th>...</th>\n",
       "      <td>...</td>\n",
       "      <td>...</td>\n",
       "      <td>...</td>\n",
       "      <td>...</td>\n",
       "      <td>...</td>\n",
       "      <td>...</td>\n",
       "      <td>...</td>\n",
       "      <td>...</td>\n",
       "      <td>...</td>\n",
       "      <td>...</td>\n",
       "      <td>...</td>\n",
       "      <td>...</td>\n",
       "      <td>...</td>\n",
       "    </tr>\n",
       "    <tr>\n",
       "      <th>110522</th>\n",
       "      <td>56</td>\n",
       "      <td>0</td>\n",
       "      <td>0</td>\n",
       "      <td>0</td>\n",
       "      <td>0</td>\n",
       "      <td>0</td>\n",
       "      <td>1</td>\n",
       "      <td>0</td>\n",
       "      <td>43</td>\n",
       "      <td>5</td>\n",
       "      <td>3</td>\n",
       "      <td>2016</td>\n",
       "      <td>1</td>\n",
       "    </tr>\n",
       "    <tr>\n",
       "      <th>110523</th>\n",
       "      <td>51</td>\n",
       "      <td>0</td>\n",
       "      <td>0</td>\n",
       "      <td>0</td>\n",
       "      <td>0</td>\n",
       "      <td>0</td>\n",
       "      <td>1</td>\n",
       "      <td>0</td>\n",
       "      <td>43</td>\n",
       "      <td>5</td>\n",
       "      <td>3</td>\n",
       "      <td>2016</td>\n",
       "      <td>1</td>\n",
       "    </tr>\n",
       "    <tr>\n",
       "      <th>110524</th>\n",
       "      <td>21</td>\n",
       "      <td>0</td>\n",
       "      <td>0</td>\n",
       "      <td>0</td>\n",
       "      <td>0</td>\n",
       "      <td>0</td>\n",
       "      <td>1</td>\n",
       "      <td>0</td>\n",
       "      <td>43</td>\n",
       "      <td>4</td>\n",
       "      <td>27</td>\n",
       "      <td>2016</td>\n",
       "      <td>2</td>\n",
       "    </tr>\n",
       "    <tr>\n",
       "      <th>110525</th>\n",
       "      <td>38</td>\n",
       "      <td>0</td>\n",
       "      <td>0</td>\n",
       "      <td>0</td>\n",
       "      <td>0</td>\n",
       "      <td>0</td>\n",
       "      <td>1</td>\n",
       "      <td>0</td>\n",
       "      <td>43</td>\n",
       "      <td>4</td>\n",
       "      <td>27</td>\n",
       "      <td>2016</td>\n",
       "      <td>2</td>\n",
       "    </tr>\n",
       "    <tr>\n",
       "      <th>110526</th>\n",
       "      <td>54</td>\n",
       "      <td>0</td>\n",
       "      <td>0</td>\n",
       "      <td>0</td>\n",
       "      <td>0</td>\n",
       "      <td>0</td>\n",
       "      <td>1</td>\n",
       "      <td>0</td>\n",
       "      <td>43</td>\n",
       "      <td>4</td>\n",
       "      <td>27</td>\n",
       "      <td>2016</td>\n",
       "      <td>2</td>\n",
       "    </tr>\n",
       "  </tbody>\n",
       "</table>\n",
       "<p>110508 rows × 13 columns</p>\n",
       "</div>"
      ],
      "text/plain": [
       "        Age  Scholarship  Hypertension  Diabetes  Alcoholism  Handicap  \\\n",
       "0        62            0             1         0           0         0   \n",
       "1        56            0             0         0           0         0   \n",
       "2        62            0             0         0           0         0   \n",
       "3         8            0             0         0           0         0   \n",
       "4        56            0             1         1           0         0   \n",
       "...     ...          ...           ...       ...         ...       ...   \n",
       "110522   56            0             0         0           0         0   \n",
       "110523   51            0             0         0           0         0   \n",
       "110524   21            0             0         0           0         0   \n",
       "110525   38            0             0         0           0         0   \n",
       "110526   54            0             0         0           0         0   \n",
       "\n",
       "        SMS_received  Gender_labeling  Neighbourhood_labeling  ScheduledMonth  \\\n",
       "0                  0                0                      39               4   \n",
       "1                  0                1                      39               4   \n",
       "2                  0                0                      45               4   \n",
       "3                  0                0                      54               4   \n",
       "4                  0                0                      39               4   \n",
       "...              ...              ...                     ...             ...   \n",
       "110522             1                0                      43               5   \n",
       "110523             1                0                      43               5   \n",
       "110524             1                0                      43               4   \n",
       "110525             1                0                      43               4   \n",
       "110526             1                0                      43               4   \n",
       "\n",
       "        ScheduledDayNum  ScheduledYear  ScheduledTimeText  \n",
       "0                    29           2016                  0  \n",
       "1                    29           2016                  2  \n",
       "2                    29           2016                  2  \n",
       "3                    29           2016                  2  \n",
       "4                    29           2016                  2  \n",
       "...                 ...            ...                ...  \n",
       "110522                3           2016                  1  \n",
       "110523                3           2016                  1  \n",
       "110524               27           2016                  2  \n",
       "110525               27           2016                  2  \n",
       "110526               27           2016                  2  \n",
       "\n",
       "[110508 rows x 13 columns]"
      ]
     },
     "metadata": {},
     "output_type": "display_data"
    }
   ],
   "source": [
    "x = df.drop(['No-show_labeling'], axis=1)\n",
    "y = pd.DataFrame(df['No-show_labeling'])\n",
    "display(y.head())\n",
    "display(x)"
   ]
  },
  {
   "cell_type": "code",
   "execution_count": 37,
   "id": "bf162b23",
   "metadata": {
    "execution": {
     "iopub.execute_input": "2022-07-09T20:22:32.109139Z",
     "iopub.status.busy": "2022-07-09T20:22:32.107629Z",
     "iopub.status.idle": "2022-07-09T20:22:32.131092Z",
     "shell.execute_reply": "2022-07-09T20:22:32.130175Z"
    },
    "papermill": {
     "duration": 0.051391,
     "end_time": "2022-07-09T20:22:32.133249",
     "exception": false,
     "start_time": "2022-07-09T20:22:32.081858",
     "status": "completed"
    },
    "tags": []
   },
   "outputs": [],
   "source": [
    "x_train, x_test, y_train, y_test = train_test_split(x, y, test_size=0.3, random_state=0)"
   ]
  },
  {
   "cell_type": "code",
   "execution_count": 38,
   "id": "6518cedc",
   "metadata": {
    "execution": {
     "iopub.execute_input": "2022-07-09T20:22:32.184393Z",
     "iopub.status.busy": "2022-07-09T20:22:32.184110Z",
     "iopub.status.idle": "2022-07-09T20:22:32.189687Z",
     "shell.execute_reply": "2022-07-09T20:22:32.188820Z"
    },
    "papermill": {
     "duration": 0.033226,
     "end_time": "2022-07-09T20:22:32.191659",
     "exception": false,
     "start_time": "2022-07-09T20:22:32.158433",
     "status": "completed"
    },
    "tags": []
   },
   "outputs": [
    {
     "data": {
      "text/plain": [
       "((33153, 13), (33153, 1))"
      ]
     },
     "execution_count": 38,
     "metadata": {},
     "output_type": "execute_result"
    }
   ],
   "source": [
    "x_test.shape, y_test.shape"
   ]
  },
  {
   "cell_type": "code",
   "execution_count": 39,
   "id": "423774d8",
   "metadata": {
    "execution": {
     "iopub.execute_input": "2022-07-09T20:22:32.244092Z",
     "iopub.status.busy": "2022-07-09T20:22:32.243070Z",
     "iopub.status.idle": "2022-07-09T20:22:32.256929Z",
     "shell.execute_reply": "2022-07-09T20:22:32.256088Z"
    },
    "papermill": {
     "duration": 0.042245,
     "end_time": "2022-07-09T20:22:32.259072",
     "exception": false,
     "start_time": "2022-07-09T20:22:32.216827",
     "status": "completed"
    },
    "tags": []
   },
   "outputs": [],
   "source": [
    "#Normalization: (X-X.min())/(X.max()-X.min())\n",
    "#Standardization: (X-X.mean())/X.std()\n",
    "\n",
    "scaler_x = MinMaxScaler().fit(x_train)\n",
    "scaler_y = MinMaxScaler().fit(y_train)\n"
   ]
  },
  {
   "cell_type": "code",
   "execution_count": 40,
   "id": "04bb7510",
   "metadata": {
    "execution": {
     "iopub.execute_input": "2022-07-09T20:22:32.309793Z",
     "iopub.status.busy": "2022-07-09T20:22:32.309538Z",
     "iopub.status.idle": "2022-07-09T20:22:32.324858Z",
     "shell.execute_reply": "2022-07-09T20:22:32.324041Z"
    },
    "papermill": {
     "duration": 0.042921,
     "end_time": "2022-07-09T20:22:32.326870",
     "exception": false,
     "start_time": "2022-07-09T20:22:32.283949",
     "status": "completed"
    },
    "tags": []
   },
   "outputs": [],
   "source": [
    "x_train_sc = scaler_x.transform(x_train)\n",
    "x_test_sc = scaler_x.transform(x_test)\n",
    "y_train_sc = scaler_y.transform(y_train)\n",
    "y_test_sc = scaler_y.transform(y_test)"
   ]
  },
  {
   "cell_type": "code",
   "execution_count": 41,
   "id": "1595cf92",
   "metadata": {
    "execution": {
     "iopub.execute_input": "2022-07-09T20:22:32.378309Z",
     "iopub.status.busy": "2022-07-09T20:22:32.378019Z",
     "iopub.status.idle": "2022-07-09T20:22:49.347896Z",
     "shell.execute_reply": "2022-07-09T20:22:49.345836Z"
    },
    "papermill": {
     "duration": 16.998797,
     "end_time": "2022-07-09T20:22:49.350347",
     "exception": false,
     "start_time": "2022-07-09T20:22:32.351550",
     "status": "completed"
    },
    "tags": []
   },
   "outputs": [
    {
     "name": "stdout",
     "output_type": "stream",
     "text": [
      "LinearRegression : \n",
      "Training R2: 0.042\n",
      "Testing R2: 0.04\n",
      "Training RMSE: 0.394\n",
      "Testing RMSE: 0.392\n",
      "=============================\n",
      "DecisionTreeRegressor : \n",
      "Training R2: 0.937\n",
      "Testing R2: -0.816\n",
      "Training RMSE: 0.101\n",
      "Testing RMSE: 0.539\n",
      "=============================\n"
     ]
    },
    {
     "name": "stderr",
     "output_type": "stream",
     "text": [
      "/opt/conda/lib/python3.7/site-packages/ipykernel_launcher.py:6: DataConversionWarning: A column-vector y was passed when a 1d array was expected. Please change the shape of y to (n_samples,), for example using ravel().\n",
      "  \n"
     ]
    },
    {
     "name": "stdout",
     "output_type": "stream",
     "text": [
      "RandomForestRegressor : \n",
      "Training R2: 0.812\n",
      "Testing R2: -0.047\n",
      "Training RMSE: 0.174\n",
      "Testing RMSE: 0.409\n",
      "=============================\n"
     ]
    }
   ],
   "source": [
    "models = [['LinearRegression : ', LinearRegression()],\n",
    "          ['DecisionTreeRegressor : ', DecisionTreeRegressor(random_state=0)],\n",
    "          ['RandomForestRegressor : ', RandomForestRegressor(random_state=0)]]\n",
    "\n",
    "for name, model in models:\n",
    "    model.fit(x_train_sc, y_train_sc)\n",
    "    y_pred_test_sc = model.predict(x_test_sc)  \n",
    "    print(name)\n",
    "    y_pred_sc = model.predict(x_train_sc)  \n",
    "    print(\"Training R2:\", round(r2_score(y_train_sc, y_pred_sc),3))\n",
    "    print(\"Testing R2:\", round(r2_score(y_test_sc, y_pred_test_sc),3))\n",
    "\n",
    "    print(\"Training RMSE:\", round((np.sqrt(mean_squared_error(y_train_sc, y_pred_sc))),3))\n",
    "    print(\"Testing RMSE:\", round((np.sqrt(mean_squared_error(y_test_sc, y_pred_test_sc))),3))\n",
    "    \n",
    "    print(\"=============================\")"
   ]
  },
  {
   "cell_type": "code",
   "execution_count": 42,
   "id": "2f8e2db3",
   "metadata": {
    "execution": {
     "iopub.execute_input": "2022-07-09T20:22:49.404047Z",
     "iopub.status.busy": "2022-07-09T20:22:49.403630Z",
     "iopub.status.idle": "2022-07-09T20:22:49.408393Z",
     "shell.execute_reply": "2022-07-09T20:22:49.407423Z"
    },
    "papermill": {
     "duration": 0.03395,
     "end_time": "2022-07-09T20:22:49.410527",
     "exception": false,
     "start_time": "2022-07-09T20:22:49.376577",
     "status": "completed"
    },
    "tags": []
   },
   "outputs": [],
   "source": [
    "from sklearn.metrics import r2_score\n",
    "from sklearn.metrics import mean_absolute_error"
   ]
  },
  {
   "cell_type": "code",
   "execution_count": 43,
   "id": "03de5bb3",
   "metadata": {
    "execution": {
     "iopub.execute_input": "2022-07-09T20:22:49.461845Z",
     "iopub.status.busy": "2022-07-09T20:22:49.461238Z",
     "iopub.status.idle": "2022-07-09T20:22:49.699694Z",
     "shell.execute_reply": "2022-07-09T20:22:49.698629Z"
    },
    "papermill": {
     "duration": 0.266477,
     "end_time": "2022-07-09T20:22:49.701816",
     "exception": false,
     "start_time": "2022-07-09T20:22:49.435339",
     "status": "completed"
    },
    "tags": []
   },
   "outputs": [
    {
     "data": {
      "text/html": [
       "<div>\n",
       "<style scoped>\n",
       "    .dataframe tbody tr th:only-of-type {\n",
       "        vertical-align: middle;\n",
       "    }\n",
       "\n",
       "    .dataframe tbody tr th {\n",
       "        vertical-align: top;\n",
       "    }\n",
       "\n",
       "    .dataframe thead th {\n",
       "        text-align: right;\n",
       "    }\n",
       "</style>\n",
       "<table border=\"1\" class=\"dataframe\">\n",
       "  <thead>\n",
       "    <tr style=\"text-align: right;\">\n",
       "      <th></th>\n",
       "      <th>No-show_labeling</th>\n",
       "    </tr>\n",
       "  </thead>\n",
       "  <tbody>\n",
       "    <tr>\n",
       "      <th>54354</th>\n",
       "      <td>0</td>\n",
       "    </tr>\n",
       "    <tr>\n",
       "      <th>72653</th>\n",
       "      <td>0</td>\n",
       "    </tr>\n",
       "    <tr>\n",
       "      <th>104938</th>\n",
       "      <td>0</td>\n",
       "    </tr>\n",
       "    <tr>\n",
       "      <th>28740</th>\n",
       "      <td>0</td>\n",
       "    </tr>\n",
       "    <tr>\n",
       "      <th>47294</th>\n",
       "      <td>0</td>\n",
       "    </tr>\n",
       "    <tr>\n",
       "      <th>...</th>\n",
       "      <td>...</td>\n",
       "    </tr>\n",
       "    <tr>\n",
       "      <th>9000</th>\n",
       "      <td>1</td>\n",
       "    </tr>\n",
       "    <tr>\n",
       "      <th>51489</th>\n",
       "      <td>0</td>\n",
       "    </tr>\n",
       "    <tr>\n",
       "      <th>92410</th>\n",
       "      <td>0</td>\n",
       "    </tr>\n",
       "    <tr>\n",
       "      <th>97060</th>\n",
       "      <td>0</td>\n",
       "    </tr>\n",
       "    <tr>\n",
       "      <th>94727</th>\n",
       "      <td>0</td>\n",
       "    </tr>\n",
       "  </tbody>\n",
       "</table>\n",
       "<p>33153 rows × 1 columns</p>\n",
       "</div>"
      ],
      "text/plain": [
       "        No-show_labeling\n",
       "54354                  0\n",
       "72653                  0\n",
       "104938                 0\n",
       "28740                  0\n",
       "47294                  0\n",
       "...                  ...\n",
       "9000                   1\n",
       "51489                  0\n",
       "92410                  0\n",
       "97060                  0\n",
       "94727                  0\n",
       "\n",
       "[33153 rows x 1 columns]"
      ]
     },
     "execution_count": 43,
     "metadata": {},
     "output_type": "execute_result"
    }
   ],
   "source": [
    "model = DecisionTreeRegressor(random_state=0)\n",
    "model.fit(x_train_sc, y_train_sc)\n",
    "predictions = model.predict(x_test_sc)\n",
    "predictions\n",
    "output = pd.DataFrame({'No-show_labeling': predictions.astype(int)})\n",
    "output.index=y_test.index\n",
    "output"
   ]
  },
  {
   "cell_type": "code",
   "execution_count": 44,
   "id": "7b1004ac",
   "metadata": {
    "execution": {
     "iopub.execute_input": "2022-07-09T20:22:49.757662Z",
     "iopub.status.busy": "2022-07-09T20:22:49.756638Z",
     "iopub.status.idle": "2022-07-09T20:22:49.798762Z",
     "shell.execute_reply": "2022-07-09T20:22:49.797651Z"
    },
    "papermill": {
     "duration": 0.07309,
     "end_time": "2022-07-09T20:22:49.801701",
     "exception": false,
     "start_time": "2022-07-09T20:22:49.728611",
     "status": "completed"
    },
    "tags": []
   },
   "outputs": [
    {
     "name": "stdout",
     "output_type": "stream",
     "text": [
      "Training 0.1006\n",
      "Testing 0.5388\n",
      "=============================\n",
      "0.9374677909335287\n"
     ]
    }
   ],
   "source": [
    "y_pred = model.predict(x_test_sc)\n",
    "y_pred_train = model.predict(x_train_sc)\n",
    "print(\"Training\", round(np.sqrt(mean_squared_error(y_train_sc, y_pred_train)),4))\n",
    "print(\"Testing\", round(np.sqrt(mean_squared_error(y_test_sc, y_pred)),4))\n",
    "print(\"=============================\")\n",
    "\n",
    "print(r2_score(y_train_sc,y_pred_train))"
   ]
  },
  {
   "cell_type": "code",
   "execution_count": null,
   "id": "451de2c9",
   "metadata": {
    "papermill": {
     "duration": 0.025765,
     "end_time": "2022-07-09T20:22:49.853005",
     "exception": false,
     "start_time": "2022-07-09T20:22:49.827240",
     "status": "completed"
    },
    "tags": []
   },
   "outputs": [],
   "source": []
  }
 ],
 "metadata": {
  "kernelspec": {
   "display_name": "Python 3",
   "language": "python",
   "name": "python3"
  },
  "language_info": {
   "codemirror_mode": {
    "name": "ipython",
    "version": 3
   },
   "file_extension": ".py",
   "mimetype": "text/x-python",
   "name": "python",
   "nbconvert_exporter": "python",
   "pygments_lexer": "ipython3",
   "version": "3.7.12"
  },
  "papermill": {
   "default_parameters": {},
   "duration": 41.931018,
   "end_time": "2022-07-09T20:22:50.499186",
   "environment_variables": {},
   "exception": null,
   "input_path": "__notebook__.ipynb",
   "output_path": "__notebook__.ipynb",
   "parameters": {},
   "start_time": "2022-07-09T20:22:08.568168",
   "version": "2.3.4"
  }
 },
 "nbformat": 4,
 "nbformat_minor": 5
}
